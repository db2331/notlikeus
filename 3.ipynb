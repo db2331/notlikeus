{
 "cells": [
  {
   "cell_type": "markdown",
   "id": "fe469744-264a-4922-a480-afc1c08eb705",
   "metadata": {},
   "source": [
    "#Roll no. 31404 Assignment 3 K4"
   ]
  },
  {
   "cell_type": "code",
   "execution_count": 1,
   "id": "95c7e220-c481-4fc5-8cfe-dabc72aeff66",
   "metadata": {},
   "outputs": [],
   "source": [
    "import pandas as pd\n",
    "import numpy as np\n",
    "import matplotlib as mp"
   ]
  },
  {
   "cell_type": "code",
   "execution_count": 2,
   "id": "eed007e2-4a16-492d-93ee-cb0c8e3f63d9",
   "metadata": {},
   "outputs": [
    {
     "data": {
      "text/html": [
       "<div>\n",
       "<style scoped>\n",
       "    .dataframe tbody tr th:only-of-type {\n",
       "        vertical-align: middle;\n",
       "    }\n",
       "\n",
       "    .dataframe tbody tr th {\n",
       "        vertical-align: top;\n",
       "    }\n",
       "\n",
       "    .dataframe thead th {\n",
       "        text-align: right;\n",
       "    }\n",
       "</style>\n",
       "<table border=\"1\" class=\"dataframe\">\n",
       "  <thead>\n",
       "    <tr style=\"text-align: right;\">\n",
       "      <th></th>\n",
       "      <th>ID</th>\n",
       "      <th>Experience</th>\n",
       "      <th>Age</th>\n",
       "      <th>Gender</th>\n",
       "      <th>Salary</th>\n",
       "    </tr>\n",
       "  </thead>\n",
       "  <tbody>\n",
       "    <tr>\n",
       "      <th>0</th>\n",
       "      <td>1</td>\n",
       "      <td>5.0</td>\n",
       "      <td>28</td>\n",
       "      <td>Female</td>\n",
       "      <td>250000</td>\n",
       "    </tr>\n",
       "    <tr>\n",
       "      <th>1</th>\n",
       "      <td>2</td>\n",
       "      <td>1.0</td>\n",
       "      <td>21</td>\n",
       "      <td>Male</td>\n",
       "      <td>50000</td>\n",
       "    </tr>\n",
       "    <tr>\n",
       "      <th>2</th>\n",
       "      <td>3</td>\n",
       "      <td>3.0</td>\n",
       "      <td>23</td>\n",
       "      <td>Female</td>\n",
       "      <td>170000</td>\n",
       "    </tr>\n",
       "    <tr>\n",
       "      <th>3</th>\n",
       "      <td>4</td>\n",
       "      <td>2.0</td>\n",
       "      <td>22</td>\n",
       "      <td>Male</td>\n",
       "      <td>25000</td>\n",
       "    </tr>\n",
       "    <tr>\n",
       "      <th>4</th>\n",
       "      <td>5</td>\n",
       "      <td>1.0</td>\n",
       "      <td>17</td>\n",
       "      <td>Male</td>\n",
       "      <td>10000</td>\n",
       "    </tr>\n",
       "  </tbody>\n",
       "</table>\n",
       "</div>"
      ],
      "text/plain": [
       "   ID  Experience  Age  Gender  Salary\n",
       "0   1         5.0   28  Female  250000\n",
       "1   2         1.0   21    Male   50000\n",
       "2   3         3.0   23  Female  170000\n",
       "3   4         2.0   22    Male   25000\n",
       "4   5         1.0   17    Male   10000"
      ]
     },
     "execution_count": 2,
     "metadata": {},
     "output_type": "execute_result"
    }
   ],
   "source": [
    "employee_data=pd.read_csv('Employee_Salary.csv')\n",
    "employee_data.head()"
   ]
  },
  {
   "cell_type": "code",
   "execution_count": 3,
   "id": "e0bca6e3-0ed4-4a73-baab-bc1790889722",
   "metadata": {},
   "outputs": [
    {
     "name": "stdout",
     "output_type": "stream",
     "text": [
      "ID            0\n",
      "Experience    1\n",
      "Age           0\n",
      "Gender        1\n",
      "Salary        0\n",
      "dtype: int64\n"
     ]
    }
   ],
   "source": [
    "# COUNT NULL VALUES\n",
    "null_sum=employee_data.isnull().sum()\n",
    "print(null_sum)"
   ]
  },
  {
   "cell_type": "code",
   "execution_count": 4,
   "id": "66253550-a688-4faf-8b7a-5aacbb87cd3d",
   "metadata": {},
   "outputs": [
    {
     "name": "stdout",
     "output_type": "stream",
     "text": [
      "\n",
      "Summary Statistics Grouped by Gender:\n",
      "              Salary                                                Age  \\\n",
      "                mean    median   min       max           std       mean   \n",
      "Gender                                                                    \n",
      "Female  2.170676e+06  250000.0  6000  10000000  3.520086e+06  37.705882   \n",
      "Male    2.063626e+06  220100.0  3000   7600000  2.950974e+06  33.764706   \n",
      "\n",
      "                                  \n",
      "       median min max        std  \n",
      "Gender                            \n",
      "Female   34.0  21  62  15.711320  \n",
      "Male     29.0  17  62  13.997899  \n"
     ]
    }
   ],
   "source": [
    "#statistics for a numeric variable grouped by a categorical variable\n",
    "print(\"\\nSummary Statistics Grouped by Gender:\")\n",
    "grouped_statistics = employee_data.groupby('Gender').agg({\n",
    "    'Salary': ['mean', 'median', 'min', 'max', 'std'],\n",
    "    'Age': ['mean', 'median', 'min', 'max', 'std']\n",
    "})\n",
    "print(grouped_statistics)"
   ]
  },
  {
   "cell_type": "code",
   "execution_count": 5,
   "id": "b66220b5-52f5-4a02-8a01-26247b3a8687",
   "metadata": {},
   "outputs": [
    {
     "data": {
      "text/html": [
       "<div>\n",
       "<style scoped>\n",
       "    .dataframe tbody tr th:only-of-type {\n",
       "        vertical-align: middle;\n",
       "    }\n",
       "\n",
       "    .dataframe tbody tr th {\n",
       "        vertical-align: top;\n",
       "    }\n",
       "\n",
       "    .dataframe thead th {\n",
       "        text-align: right;\n",
       "    }\n",
       "</style>\n",
       "<table border=\"1\" class=\"dataframe\">\n",
       "  <thead>\n",
       "    <tr style=\"text-align: right;\">\n",
       "      <th></th>\n",
       "      <th>ID</th>\n",
       "      <th>Experience</th>\n",
       "      <th>Age</th>\n",
       "      <th>Gender</th>\n",
       "      <th>Salary</th>\n",
       "      <th>Gender_Numeric</th>\n",
       "    </tr>\n",
       "  </thead>\n",
       "  <tbody>\n",
       "    <tr>\n",
       "      <th>0</th>\n",
       "      <td>1</td>\n",
       "      <td>5.0</td>\n",
       "      <td>28</td>\n",
       "      <td>Female</td>\n",
       "      <td>250000</td>\n",
       "      <td>1.0</td>\n",
       "    </tr>\n",
       "    <tr>\n",
       "      <th>1</th>\n",
       "      <td>2</td>\n",
       "      <td>1.0</td>\n",
       "      <td>21</td>\n",
       "      <td>Male</td>\n",
       "      <td>50000</td>\n",
       "      <td>0.0</td>\n",
       "    </tr>\n",
       "    <tr>\n",
       "      <th>2</th>\n",
       "      <td>3</td>\n",
       "      <td>3.0</td>\n",
       "      <td>23</td>\n",
       "      <td>Female</td>\n",
       "      <td>170000</td>\n",
       "      <td>1.0</td>\n",
       "    </tr>\n",
       "    <tr>\n",
       "      <th>3</th>\n",
       "      <td>4</td>\n",
       "      <td>2.0</td>\n",
       "      <td>22</td>\n",
       "      <td>Male</td>\n",
       "      <td>25000</td>\n",
       "      <td>0.0</td>\n",
       "    </tr>\n",
       "    <tr>\n",
       "      <th>4</th>\n",
       "      <td>5</td>\n",
       "      <td>1.0</td>\n",
       "      <td>17</td>\n",
       "      <td>Male</td>\n",
       "      <td>10000</td>\n",
       "      <td>0.0</td>\n",
       "    </tr>\n",
       "  </tbody>\n",
       "</table>\n",
       "</div>"
      ],
      "text/plain": [
       "   ID  Experience  Age  Gender  Salary  Gender_Numeric\n",
       "0   1         5.0   28  Female  250000             1.0\n",
       "1   2         1.0   21    Male   50000             0.0\n",
       "2   3         3.0   23  Female  170000             1.0\n",
       "3   4         2.0   22    Male   25000             0.0\n",
       "4   5         1.0   17    Male   10000             0.0"
      ]
     },
     "execution_count": 5,
     "metadata": {},
     "output_type": "execute_result"
    }
   ],
   "source": [
    "# CONVERT INTO CATEGORICAL VALUES\n",
    "employee_data['Gender_Numeric']=employee_data['Gender'].map({'Male':0,'Female':1})\n",
    "employee_data.head()"
   ]
  },
  {
   "cell_type": "code",
   "execution_count": 6,
   "id": "4c99ea86-b2b2-456d-9e5d-ac727a0f4bac",
   "metadata": {},
   "outputs": [
    {
     "name": "stdout",
     "output_type": "stream",
     "text": [
      "\n",
      "Summary Statistics for Salary Grouped by Gender:\n",
      "                mean    median   min       max           std\n",
      "Gender                                                      \n",
      "Female  2.170676e+06  250000.0  6000  10000000  3.520086e+06\n",
      "Male    2.063626e+06  220100.0  3000   7600000  2.950974e+06\n"
     ]
    }
   ],
   "source": [
    "# STATISTICS FOR SALARY GROUP BY GENDER\n",
    "print(\"\\nSummary Statistics for Salary Grouped by Gender:\")\n",
    "salary_statistics = employee_data.groupby('Gender')['Salary'].agg(['mean', 'median', 'min', 'max', 'std'])\n",
    "print(salary_statistics)"
   ]
  },
  {
   "cell_type": "code",
   "execution_count": 7,
   "id": "b60eba74-ae32-4418-bcd8-ff7836701e11",
   "metadata": {},
   "outputs": [
    {
     "name": "stdout",
     "output_type": "stream",
     "text": [
      "\n",
      "Summary Statistics for Experience Grouped by Gender:\n",
      "             mean  median  min   max       std\n",
      "Gender                                        \n",
      "Female  10.470588    10.0  1.0  27.0  8.224336\n",
      "Male     8.062500     5.5  1.0  25.0  7.206189\n"
     ]
    }
   ],
   "source": [
    "# STATISTICS FOR EXPERIENCE GROUP BY GENDER\n",
    "print(\"\\nSummary Statistics for Experience Grouped by Gender:\")\n",
    "experience_statistics = employee_data.groupby('Gender')['Experience'].agg(['mean', 'median', 'min', 'max', 'std'])\n",
    "print(experience_statistics)\n"
   ]
  },
  {
   "cell_type": "code",
   "execution_count": 8,
   "id": "3bb82baf-b838-4908-9fe2-88a4f6572a72",
   "metadata": {},
   "outputs": [
    {
     "name": "stdout",
     "output_type": "stream",
     "text": [
      "\n",
      "Summary Statistics for Age Grouped by Gender:\n",
      "             mean  median  min  max        std\n",
      "Gender                                        \n",
      "Female  37.705882    34.0   21   62  15.711320\n",
      "Male    33.764706    29.0   17   62  13.997899\n"
     ]
    }
   ],
   "source": [
    "# STATISTICS FOR AGE GROUP BY GENDER\n",
    "print(\"\\nSummary Statistics for Age Grouped by Gender:\")\n",
    "age_statistics = employee_data.groupby('Gender')['Age'].agg(['mean', 'median', 'min', 'max', 'std'])\n",
    "print(age_statistics)"
   ]
  },
  {
   "cell_type": "code",
   "execution_count": 9,
   "id": "daaaeece-63a9-4cd8-8339-796d2d016b62",
   "metadata": {},
   "outputs": [
    {
     "name": "stdout",
     "output_type": "stream",
     "text": [
      "3000\n"
     ]
    }
   ],
   "source": [
    "#MIN SALARY\n",
    "min_sal=employee_data['Salary'].min()\n",
    "print(min_sal)"
   ]
  },
  {
   "cell_type": "code",
   "execution_count": 14,
   "id": "bbdfdba5-dca5-4216-95b3-f591bead4a09",
   "metadata": {},
   "outputs": [
    {
     "name": "stdout",
     "output_type": "stream",
     "text": [
      "Number of distinct keys in the 'Gender' column: 2\n",
      "['Female' 'Male' nan]\n",
      "Distinct values in Age:[28 21 23 22 17 62 54 36 26 29 39 40 27 34 18 55 53 49]\n",
      "Distinct values in Experience:[ 5.  1.  3.  2. 25. 19. 10. 15.  4.  6. 14. nan 27. 20. 16.]\n"
     ]
    }
   ],
   "source": [
    "# DISTINCT VALUES\n",
    "num_distinct_keys = employee_data['Gender'].nunique()\n",
    "print(f\"Number of distinct keys in the 'Gender' column: {num_distinct_keys}\")\n",
    "\n",
    "uni_gen=employee_data['Gender'].unique()\n",
    "print(uni_gen)\n",
    "\n",
    "unique_cols=['Age','Experience']\n",
    "for col in unique_cols:\n",
    "    print(f\"Distinct values in {col}:{employee_data[col].unique()}\")"
   ]
  },
  {
   "cell_type": "code",
   "execution_count": 11,
   "id": "2fd686c8-6a49-43ca-84a6-62e2b0b047e5",
   "metadata": {},
   "outputs": [
    {
     "name": "stdout",
     "output_type": "stream",
     "text": [
      "    ID  Experience  Age Gender   Salary  Gender_Numeric\n",
      "1    2         1.0   21   Male    50000             0.0\n",
      "3    4         2.0   22   Male    25000             0.0\n",
      "4    5         1.0   17   Male    10000             0.0\n",
      "5    6        25.0   62   Male  5001000             0.0\n",
      "11  12         6.0   29   Male  1400000             0.0\n",
      "12  13        14.0   39   Male  6000050             0.0\n",
      "13  14         NaN   40   Male   220100             0.0\n",
      "14  15         2.0   23   Male     7500             0.0\n",
      "18  19         2.0   21   Male    15000             0.0\n",
      "19  20        10.0   36   Male   330000             0.0\n",
      "20  21        15.0   54   Male  6570000             0.0\n",
      "21  22         4.0   26   Male    25000             0.0\n",
      "22  23         5.0   29   Male  6845000             0.0\n",
      "26  27         1.0   18   Male     3000             0.0\n",
      "30  31        10.0   34   Male    80000             0.0\n",
      "31  32        15.0   54   Male   900000             0.0\n",
      "34  35        16.0   49   Male  7600000             0.0\n"
     ]
    }
   ],
   "source": [
    "#PRINT ONLY ONE GROUP\n",
    "group_data=employee_data.groupby('Gender')\n",
    "\n",
    "male_group=group_data.get_group('Male')\n",
    "print(male_group)"
   ]
  },
  {
   "cell_type": "code",
   "execution_count": 12,
   "id": "097f7c90-8c99-4d6b-b2ed-41a4f5987e41",
   "metadata": {},
   "outputs": [
    {
     "name": "stdout",
     "output_type": "stream",
     "text": [
      "Gender\n",
      "Female    17\n",
      "Male      17\n",
      "Name: count, dtype: int64\n"
     ]
    }
   ],
   "source": [
    "#CHECK BALANCED OR NOT PART 1\n",
    "target_distribution=employee_data['Gender'].value_counts()\n",
    "print(target_distribution)"
   ]
  },
  {
   "cell_type": "code",
   "execution_count": 13,
   "id": "0137daf9-f771-4473-a30d-07027572e49f",
   "metadata": {},
   "outputs": [
    {
     "name": "stdout",
     "output_type": "stream",
     "text": [
      "Dataset balanced\n"
     ]
    }
   ],
   "source": [
    "#CHECK BALANCED OR NOT PART 2\n",
    "if target_distribution.min()/target_distribution.max()>0.5:\n",
    "    print(\"Dataset balanced\")\n",
    "else:\n",
    "    print(\"Dataset unbalanced\")"
   ]
  },
  {
   "cell_type": "markdown",
   "id": "8abf894b-19e1-4642-b975-42f39876b0c5",
   "metadata": {},
   "source": [
    "#FOR iris.csv"
   ]
  },
  {
   "cell_type": "code",
   "execution_count": 20,
   "id": "6b27fbc8-65c8-411b-850c-f0683df319da",
   "metadata": {},
   "outputs": [],
   "source": [
    "import pandas as pd\n",
    "import numpy as np\n",
    "import matplotlib as mp"
   ]
  },
  {
   "cell_type": "code",
   "execution_count": 21,
   "id": "081b4468-01b3-4824-842f-7c4ac45f4e36",
   "metadata": {},
   "outputs": [
    {
     "data": {
      "text/html": [
       "<div>\n",
       "<style scoped>\n",
       "    .dataframe tbody tr th:only-of-type {\n",
       "        vertical-align: middle;\n",
       "    }\n",
       "\n",
       "    .dataframe tbody tr th {\n",
       "        vertical-align: top;\n",
       "    }\n",
       "\n",
       "    .dataframe thead th {\n",
       "        text-align: right;\n",
       "    }\n",
       "</style>\n",
       "<table border=\"1\" class=\"dataframe\">\n",
       "  <thead>\n",
       "    <tr style=\"text-align: right;\">\n",
       "      <th></th>\n",
       "      <th>Id</th>\n",
       "      <th>SepalLengthCm</th>\n",
       "      <th>SepalWidthCm</th>\n",
       "      <th>PetalLengthCm</th>\n",
       "      <th>PetalWidthCm</th>\n",
       "      <th>Species</th>\n",
       "    </tr>\n",
       "  </thead>\n",
       "  <tbody>\n",
       "    <tr>\n",
       "      <th>0</th>\n",
       "      <td>1</td>\n",
       "      <td>5.1</td>\n",
       "      <td>3.5</td>\n",
       "      <td>1.4</td>\n",
       "      <td>0.2</td>\n",
       "      <td>Iris-setosa</td>\n",
       "    </tr>\n",
       "    <tr>\n",
       "      <th>1</th>\n",
       "      <td>2</td>\n",
       "      <td>4.9</td>\n",
       "      <td>3.0</td>\n",
       "      <td>1.4</td>\n",
       "      <td>0.2</td>\n",
       "      <td>Iris-setosa</td>\n",
       "    </tr>\n",
       "    <tr>\n",
       "      <th>2</th>\n",
       "      <td>3</td>\n",
       "      <td>4.7</td>\n",
       "      <td>3.2</td>\n",
       "      <td>1.3</td>\n",
       "      <td>0.2</td>\n",
       "      <td>Iris-setosa</td>\n",
       "    </tr>\n",
       "    <tr>\n",
       "      <th>3</th>\n",
       "      <td>4</td>\n",
       "      <td>4.6</td>\n",
       "      <td>3.1</td>\n",
       "      <td>1.5</td>\n",
       "      <td>0.2</td>\n",
       "      <td>Iris-setosa</td>\n",
       "    </tr>\n",
       "    <tr>\n",
       "      <th>4</th>\n",
       "      <td>5</td>\n",
       "      <td>5.0</td>\n",
       "      <td>3.6</td>\n",
       "      <td>1.4</td>\n",
       "      <td>0.2</td>\n",
       "      <td>Iris-setosa</td>\n",
       "    </tr>\n",
       "  </tbody>\n",
       "</table>\n",
       "</div>"
      ],
      "text/plain": [
       "   Id  SepalLengthCm  SepalWidthCm  PetalLengthCm  PetalWidthCm      Species\n",
       "0   1            5.1           3.5            1.4           0.2  Iris-setosa\n",
       "1   2            4.9           3.0            1.4           0.2  Iris-setosa\n",
       "2   3            4.7           3.2            1.3           0.2  Iris-setosa\n",
       "3   4            4.6           3.1            1.5           0.2  Iris-setosa\n",
       "4   5            5.0           3.6            1.4           0.2  Iris-setosa"
      ]
     },
     "execution_count": 21,
     "metadata": {},
     "output_type": "execute_result"
    }
   ],
   "source": [
    "data=pd.read_csv('Iris.csv')\n",
    "data.head()"
   ]
  },
  {
   "cell_type": "code",
   "execution_count": 22,
   "id": "06e270f9-ca72-4d89-a32a-1f5ee8162062",
   "metadata": {},
   "outputs": [
    {
     "data": {
      "text/plain": [
       "Species\n",
       "Iris-setosa        50\n",
       "Iris-versicolor    50\n",
       "Iris-virginica     50\n",
       "Name: count, dtype: int64"
      ]
     },
     "execution_count": 22,
     "metadata": {},
     "output_type": "execute_result"
    }
   ],
   "source": [
    "data.Species.value_counts()"
   ]
  },
  {
   "cell_type": "code",
   "execution_count": 23,
   "id": "99c68057-3d28-4331-8d05-1848c5d73887",
   "metadata": {},
   "outputs": [
    {
     "data": {
      "text/plain": [
       "(150, 6)"
      ]
     },
     "execution_count": 23,
     "metadata": {},
     "output_type": "execute_result"
    }
   ],
   "source": [
    "data.shape"
   ]
  },
  {
   "cell_type": "code",
   "execution_count": 24,
   "id": "5262ed3d-8c35-4fde-8194-e4bedea1746a",
   "metadata": {},
   "outputs": [
    {
     "data": {
      "text/plain": [
       "Id               0\n",
       "SepalLengthCm    0\n",
       "SepalWidthCm     0\n",
       "PetalLengthCm    0\n",
       "PetalWidthCm     0\n",
       "Species          0\n",
       "dtype: int64"
      ]
     },
     "execution_count": 24,
     "metadata": {},
     "output_type": "execute_result"
    }
   ],
   "source": [
    "data.isnull().sum()"
   ]
  },
  {
   "cell_type": "code",
   "execution_count": 25,
   "id": "c9590100-2ffe-4f21-a83c-f54410168da9",
   "metadata": {},
   "outputs": [
    {
     "data": {
      "text/plain": [
       "Id                 int64\n",
       "SepalLengthCm    float64\n",
       "SepalWidthCm     float64\n",
       "PetalLengthCm    float64\n",
       "PetalWidthCm     float64\n",
       "Species           object\n",
       "dtype: object"
      ]
     },
     "execution_count": 25,
     "metadata": {},
     "output_type": "execute_result"
    }
   ],
   "source": [
    "data.dtypes"
   ]
  },
  {
   "cell_type": "code",
   "execution_count": 26,
   "id": "c2f7da38-6b3a-4845-8b26-fc2517529fee",
   "metadata": {},
   "outputs": [
    {
     "name": "stdout",
     "output_type": "stream",
     "text": [
      "\n",
      "Iris-setosa\n",
      "               count    mean        std  min     25%   50%     75%   max\n",
      "Id              50.0  25.500  14.577380  1.0  13.250  25.5  37.750  50.0\n",
      "SepalLengthCm   50.0   5.006   0.352490  4.3   4.800   5.0   5.200   5.8\n",
      "SepalWidthCm    50.0   3.418   0.381024  2.3   3.125   3.4   3.675   4.4\n",
      "PetalLengthCm   50.0   1.464   0.173511  1.0   1.400   1.5   1.575   1.9\n",
      "PetalWidthCm    50.0   0.244   0.107210  0.1   0.200   0.2   0.300   0.6\n",
      "\n",
      "Iris-versicolor\n",
      "               count    mean        std   min     25%    50%    75%    max\n",
      "Id              50.0  75.500  14.577380  51.0  63.250  75.50  87.75  100.0\n",
      "SepalLengthCm   50.0   5.936   0.516171   4.9   5.600   5.90   6.30    7.0\n",
      "SepalWidthCm    50.0   2.770   0.313798   2.0   2.525   2.80   3.00    3.4\n",
      "PetalLengthCm   50.0   4.260   0.469911   3.0   4.000   4.35   4.60    5.1\n",
      "PetalWidthCm    50.0   1.326   0.197753   1.0   1.200   1.30   1.50    1.8\n",
      "\n",
      "Iris-virginica\n",
      "               count     mean        std    min      25%     50%      75%  \\\n",
      "Id              50.0  125.500  14.577380  101.0  113.250  125.50  137.750   \n",
      "SepalLengthCm   50.0    6.588   0.635880    4.9    6.225    6.50    6.900   \n",
      "SepalWidthCm    50.0    2.974   0.322497    2.2    2.800    3.00    3.175   \n",
      "PetalLengthCm   50.0    5.552   0.551895    4.5    5.100    5.55    5.875   \n",
      "PetalWidthCm    50.0    2.026   0.274650    1.4    1.800    2.00    2.300   \n",
      "\n",
      "                 max  \n",
      "Id             150.0  \n",
      "SepalLengthCm    7.9  \n",
      "SepalWidthCm     3.8  \n",
      "PetalLengthCm    6.9  \n",
      "PetalWidthCm     2.5  \n"
     ]
    }
   ],
   "source": [
    "def basic_stats(df):\n",
    "    print(\"\\nIris-setosa\")\n",
    "    print(df[df.Species=='Iris-setosa'].describe().transpose())\n",
    "    print(\"\\nIris-versicolor\")\n",
    "    print(df[df.Species=='Iris-versicolor'].describe().transpose())\n",
    "    print(\"\\nIris-virginica\")\n",
    "    print(df[df.Species=='Iris-virginica'].describe().transpose())\n",
    "basic_stats(data)"
   ]
  },
  {
   "cell_type": "code",
   "execution_count": 27,
   "id": "6c046d75-4e24-4093-82df-ebf9bbf39f46",
   "metadata": {},
   "outputs": [
    {
     "data": {
      "text/html": [
       "<div>\n",
       "<style scoped>\n",
       "    .dataframe tbody tr th:only-of-type {\n",
       "        vertical-align: middle;\n",
       "    }\n",
       "\n",
       "    .dataframe tbody tr th {\n",
       "        vertical-align: top;\n",
       "    }\n",
       "\n",
       "    .dataframe thead tr th {\n",
       "        text-align: left;\n",
       "    }\n",
       "\n",
       "    .dataframe thead tr:last-of-type th {\n",
       "        text-align: right;\n",
       "    }\n",
       "</style>\n",
       "<table border=\"1\" class=\"dataframe\">\n",
       "  <thead>\n",
       "    <tr>\n",
       "      <th></th>\n",
       "      <th colspan=\"8\" halign=\"left\">Id</th>\n",
       "      <th colspan=\"2\" halign=\"left\">SepalLengthCm</th>\n",
       "      <th>...</th>\n",
       "      <th colspan=\"2\" halign=\"left\">PetalLengthCm</th>\n",
       "      <th colspan=\"8\" halign=\"left\">PetalWidthCm</th>\n",
       "    </tr>\n",
       "    <tr>\n",
       "      <th></th>\n",
       "      <th>count</th>\n",
       "      <th>mean</th>\n",
       "      <th>std</th>\n",
       "      <th>min</th>\n",
       "      <th>25%</th>\n",
       "      <th>50%</th>\n",
       "      <th>75%</th>\n",
       "      <th>max</th>\n",
       "      <th>count</th>\n",
       "      <th>mean</th>\n",
       "      <th>...</th>\n",
       "      <th>75%</th>\n",
       "      <th>max</th>\n",
       "      <th>count</th>\n",
       "      <th>mean</th>\n",
       "      <th>std</th>\n",
       "      <th>min</th>\n",
       "      <th>25%</th>\n",
       "      <th>50%</th>\n",
       "      <th>75%</th>\n",
       "      <th>max</th>\n",
       "    </tr>\n",
       "    <tr>\n",
       "      <th>Species</th>\n",
       "      <th></th>\n",
       "      <th></th>\n",
       "      <th></th>\n",
       "      <th></th>\n",
       "      <th></th>\n",
       "      <th></th>\n",
       "      <th></th>\n",
       "      <th></th>\n",
       "      <th></th>\n",
       "      <th></th>\n",
       "      <th></th>\n",
       "      <th></th>\n",
       "      <th></th>\n",
       "      <th></th>\n",
       "      <th></th>\n",
       "      <th></th>\n",
       "      <th></th>\n",
       "      <th></th>\n",
       "      <th></th>\n",
       "      <th></th>\n",
       "      <th></th>\n",
       "    </tr>\n",
       "  </thead>\n",
       "  <tbody>\n",
       "    <tr>\n",
       "      <th>Iris-setosa</th>\n",
       "      <td>50.0</td>\n",
       "      <td>25.5</td>\n",
       "      <td>14.57738</td>\n",
       "      <td>1.0</td>\n",
       "      <td>13.25</td>\n",
       "      <td>25.5</td>\n",
       "      <td>37.75</td>\n",
       "      <td>50.0</td>\n",
       "      <td>50.0</td>\n",
       "      <td>5.006</td>\n",
       "      <td>...</td>\n",
       "      <td>1.575</td>\n",
       "      <td>1.9</td>\n",
       "      <td>50.0</td>\n",
       "      <td>0.244</td>\n",
       "      <td>0.107210</td>\n",
       "      <td>0.1</td>\n",
       "      <td>0.2</td>\n",
       "      <td>0.2</td>\n",
       "      <td>0.3</td>\n",
       "      <td>0.6</td>\n",
       "    </tr>\n",
       "    <tr>\n",
       "      <th>Iris-versicolor</th>\n",
       "      <td>50.0</td>\n",
       "      <td>75.5</td>\n",
       "      <td>14.57738</td>\n",
       "      <td>51.0</td>\n",
       "      <td>63.25</td>\n",
       "      <td>75.5</td>\n",
       "      <td>87.75</td>\n",
       "      <td>100.0</td>\n",
       "      <td>50.0</td>\n",
       "      <td>5.936</td>\n",
       "      <td>...</td>\n",
       "      <td>4.600</td>\n",
       "      <td>5.1</td>\n",
       "      <td>50.0</td>\n",
       "      <td>1.326</td>\n",
       "      <td>0.197753</td>\n",
       "      <td>1.0</td>\n",
       "      <td>1.2</td>\n",
       "      <td>1.3</td>\n",
       "      <td>1.5</td>\n",
       "      <td>1.8</td>\n",
       "    </tr>\n",
       "    <tr>\n",
       "      <th>Iris-virginica</th>\n",
       "      <td>50.0</td>\n",
       "      <td>125.5</td>\n",
       "      <td>14.57738</td>\n",
       "      <td>101.0</td>\n",
       "      <td>113.25</td>\n",
       "      <td>125.5</td>\n",
       "      <td>137.75</td>\n",
       "      <td>150.0</td>\n",
       "      <td>50.0</td>\n",
       "      <td>6.588</td>\n",
       "      <td>...</td>\n",
       "      <td>5.875</td>\n",
       "      <td>6.9</td>\n",
       "      <td>50.0</td>\n",
       "      <td>2.026</td>\n",
       "      <td>0.274650</td>\n",
       "      <td>1.4</td>\n",
       "      <td>1.8</td>\n",
       "      <td>2.0</td>\n",
       "      <td>2.3</td>\n",
       "      <td>2.5</td>\n",
       "    </tr>\n",
       "  </tbody>\n",
       "</table>\n",
       "<p>3 rows × 40 columns</p>\n",
       "</div>"
      ],
      "text/plain": [
       "                   Id                                                        \\\n",
       "                count   mean       std    min     25%    50%     75%    max   \n",
       "Species                                                                       \n",
       "Iris-setosa      50.0   25.5  14.57738    1.0   13.25   25.5   37.75   50.0   \n",
       "Iris-versicolor  50.0   75.5  14.57738   51.0   63.25   75.5   87.75  100.0   \n",
       "Iris-virginica   50.0  125.5  14.57738  101.0  113.25  125.5  137.75  150.0   \n",
       "\n",
       "                SepalLengthCm         ... PetalLengthCm      PetalWidthCm  \\\n",
       "                        count   mean  ...           75%  max        count   \n",
       "Species                               ...                                   \n",
       "Iris-setosa              50.0  5.006  ...         1.575  1.9         50.0   \n",
       "Iris-versicolor          50.0  5.936  ...         4.600  5.1         50.0   \n",
       "Iris-virginica           50.0  6.588  ...         5.875  6.9         50.0   \n",
       "\n",
       "                                                           \n",
       "                  mean       std  min  25%  50%  75%  max  \n",
       "Species                                                    \n",
       "Iris-setosa      0.244  0.107210  0.1  0.2  0.2  0.3  0.6  \n",
       "Iris-versicolor  1.326  0.197753  1.0  1.2  1.3  1.5  1.8  \n",
       "Iris-virginica   2.026  0.274650  1.4  1.8  2.0  2.3  2.5  \n",
       "\n",
       "[3 rows x 40 columns]"
      ]
     },
     "execution_count": 27,
     "metadata": {},
     "output_type": "execute_result"
    }
   ],
   "source": [
    "#DESCRIBE SPECIES\n",
    "data_desc=pd.DataFrame(data.groupby('Species').describe())\n",
    "data_desc"
   ]
  },
  {
   "cell_type": "code",
   "execution_count": 31,
   "id": "f37fa612-d132-4886-8fc5-008ce0f530c7",
   "metadata": {},
   "outputs": [
    {
     "name": "stdout",
     "output_type": "stream",
     "text": [
      "    Id  SepalLengthCm  SepalWidthCm  PetalLengthCm  PetalWidthCm      Species\n",
      "0    1            5.1           3.5            1.4           0.2  Iris-setosa\n",
      "1    2            4.9           3.0            1.4           0.2  Iris-setosa\n",
      "2    3            4.7           3.2            1.3           0.2  Iris-setosa\n",
      "3    4            4.6           3.1            1.5           0.2  Iris-setosa\n",
      "4    5            5.0           3.6            1.4           0.2  Iris-setosa\n",
      "5    6            5.4           3.9            1.7           0.4  Iris-setosa\n",
      "6    7            4.6           3.4            1.4           0.3  Iris-setosa\n",
      "7    8            5.0           3.4            1.5           0.2  Iris-setosa\n",
      "9   10            4.9           3.1            1.5           0.1  Iris-setosa\n",
      "10  11            5.4           3.7            1.5           0.2  Iris-setosa\n",
      "11  12            4.8           3.4            1.6           0.2  Iris-setosa\n",
      "12  13            4.8           3.0            1.4           0.1  Iris-setosa\n",
      "14  15            5.8           4.0            1.2           0.2  Iris-setosa\n",
      "15  16            5.7           4.4            1.5           0.4  Iris-setosa\n",
      "16  17            5.4           3.9            1.3           0.4  Iris-setosa\n",
      "17  18            5.1           3.5            1.4           0.3  Iris-setosa\n",
      "18  19            5.7           3.8            1.7           0.3  Iris-setosa\n",
      "19  20            5.1           3.8            1.5           0.3  Iris-setosa\n",
      "20  21            5.4           3.4            1.7           0.2  Iris-setosa\n",
      "21  22            5.1           3.7            1.5           0.4  Iris-setosa\n",
      "22  23            4.6           3.6            1.0           0.2  Iris-setosa\n",
      "23  24            5.1           3.3            1.7           0.5  Iris-setosa\n",
      "24  25            4.8           3.4            1.9           0.2  Iris-setosa\n",
      "25  26            5.0           3.0            1.6           0.2  Iris-setosa\n",
      "26  27            5.0           3.4            1.6           0.4  Iris-setosa\n",
      "27  28            5.2           3.5            1.5           0.2  Iris-setosa\n",
      "28  29            5.2           3.4            1.4           0.2  Iris-setosa\n",
      "29  30            4.7           3.2            1.6           0.2  Iris-setosa\n",
      "30  31            4.8           3.1            1.6           0.2  Iris-setosa\n",
      "31  32            5.4           3.4            1.5           0.4  Iris-setosa\n",
      "32  33            5.2           4.1            1.5           0.1  Iris-setosa\n",
      "33  34            5.5           4.2            1.4           0.2  Iris-setosa\n",
      "34  35            4.9           3.1            1.5           0.1  Iris-setosa\n",
      "35  36            5.0           3.2            1.2           0.2  Iris-setosa\n",
      "36  37            5.5           3.5            1.3           0.2  Iris-setosa\n",
      "37  38            4.9           3.1            1.5           0.1  Iris-setosa\n",
      "39  40            5.1           3.4            1.5           0.2  Iris-setosa\n",
      "40  41            5.0           3.5            1.3           0.3  Iris-setosa\n",
      "43  44            5.0           3.5            1.6           0.6  Iris-setosa\n",
      "44  45            5.1           3.8            1.9           0.4  Iris-setosa\n",
      "45  46            4.8           3.0            1.4           0.3  Iris-setosa\n",
      "46  47            5.1           3.8            1.6           0.2  Iris-setosa\n",
      "47  48            4.6           3.2            1.4           0.2  Iris-setosa\n",
      "48  49            5.3           3.7            1.5           0.2  Iris-setosa\n",
      "49  50            5.0           3.3            1.4           0.2  Iris-setosa\n"
     ]
    }
   ],
   "source": [
    "# DATA WHERE SepalLengthCm>4.5\n",
    "dataset=data[(data['Species']=='Iris-setosa') & (data['SepalLengthCm']>4.5)]\n",
    "print(dataset)\n",
    "# dataset=data['SepalLengthCm']>5.5"
   ]
  },
  {
   "cell_type": "code",
   "execution_count": null,
   "id": "ae4585c5-187d-4e9d-b619-01d8e0fde251",
   "metadata": {},
   "outputs": [],
   "source": []
  }
 ],
 "metadata": {
  "kernelspec": {
   "display_name": "Python 3 (ipykernel)",
   "language": "python",
   "name": "python3"
  },
  "language_info": {
   "codemirror_mode": {
    "name": "ipython",
    "version": 3
   },
   "file_extension": ".py",
   "mimetype": "text/x-python",
   "name": "python",
   "nbconvert_exporter": "python",
   "pygments_lexer": "ipython3",
   "version": "3.13.2"
  }
 },
 "nbformat": 4,
 "nbformat_minor": 5
}
