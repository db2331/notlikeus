{
 "cells": [
  {
   "cell_type": "markdown",
   "metadata": {
    "id": "Cs6L8D4tkJbJ"
   },
   "source": [
    "#### **Assignment No 07**\n",
    "\n",
    "**Text Anatytics** <br/>\n",
    "1. Extract Sample document and apply following document preprocessing methods: Tokenization, POS Tagging, stop words removal, Stemming and Lemmatization.<br/>\n",
    "2. Create representation of document by calculating Term Frequency and Inverse Document Frequency."
   ]
  },
  {
   "cell_type": "code",
   "execution_count": 71,
   "metadata": {},
   "outputs": [
    {
     "name": "stdout",
     "output_type": "stream",
     "text": [
      "Requirement already satisfied: pip-system-certs in c:\\python313\\lib\\site-packages (4.0)\n",
      "Requirement already satisfied: wrapt>=1.10.4 in c:\\python313\\lib\\site-packages (from pip-system-certs) (1.17.2)\n",
      "Note: you may need to restart the kernel to use updated packages.\n"
     ]
    }
   ],
   "source": [
    "pip install pip-system-certs"
   ]
  },
  {
   "cell_type": "code",
   "execution_count": 72,
   "metadata": {},
   "outputs": [
    {
     "name": "stdout",
     "output_type": "stream",
     "text": [
      "Requirement already satisfied: nltk in c:\\python313\\lib\\site-packages (3.9.1)\n",
      "Requirement already satisfied: click in c:\\python313\\lib\\site-packages (from nltk) (8.1.8)\n",
      "Requirement already satisfied: joblib in c:\\python313\\lib\\site-packages (from nltk) (1.4.2)\n",
      "Requirement already satisfied: regex>=2021.8.3 in c:\\python313\\lib\\site-packages (from nltk) (2024.11.6)\n",
      "Requirement already satisfied: tqdm in c:\\python313\\lib\\site-packages (from nltk) (4.67.1)\n",
      "Requirement already satisfied: colorama in c:\\python313\\lib\\site-packages (from click->nltk) (0.4.6)\n"
     ]
    }
   ],
   "source": [
    "!pip3 install nltk"
   ]
  },
  {
   "cell_type": "code",
   "execution_count": 73,
   "metadata": {
    "id": "MYewrrpcj06a"
   },
   "outputs": [],
   "source": [
    "import nltk\n",
    "import string\n",
    "import math\n",
    "import ssl"
   ]
  },
  {
   "cell_type": "code",
   "execution_count": 74,
   "metadata": {
    "colab": {
     "base_uri": "https://localhost:8080/"
    },
    "id": "1xaIDoifmJW1",
    "outputId": "418647ac-d5fc-4313-f402-b8040e18b90e"
   },
   "outputs": [
    {
     "name": "stderr",
     "output_type": "stream",
     "text": [
      "[nltk_data] Downloading collection 'all'\n",
      "[nltk_data]    | \n",
      "[nltk_data]    | Downloading package abc to\n",
      "[nltk_data]    |     C:\\Users\\adgat\\AppData\\Roaming\\nltk_data...\n",
      "[nltk_data]    |   Package abc is already up-to-date!\n",
      "[nltk_data]    | Downloading package alpino to\n",
      "[nltk_data]    |     C:\\Users\\adgat\\AppData\\Roaming\\nltk_data...\n",
      "[nltk_data]    |   Package alpino is already up-to-date!\n",
      "[nltk_data]    | Downloading package averaged_perceptron_tagger to\n",
      "[nltk_data]    |     C:\\Users\\adgat\\AppData\\Roaming\\nltk_data...\n",
      "[nltk_data]    |   Package averaged_perceptron_tagger is already up-\n",
      "[nltk_data]    |       to-date!\n",
      "[nltk_data]    | Downloading package averaged_perceptron_tagger_eng to\n",
      "[nltk_data]    |     C:\\Users\\adgat\\AppData\\Roaming\\nltk_data...\n",
      "[nltk_data]    |   Package averaged_perceptron_tagger_eng is already\n",
      "[nltk_data]    |       up-to-date!\n",
      "[nltk_data]    | Downloading package averaged_perceptron_tagger_ru to\n",
      "[nltk_data]    |     C:\\Users\\adgat\\AppData\\Roaming\\nltk_data...\n",
      "[nltk_data]    |   Package averaged_perceptron_tagger_ru is already\n",
      "[nltk_data]    |       up-to-date!\n",
      "[nltk_data]    | Downloading package averaged_perceptron_tagger_rus to\n",
      "[nltk_data]    |     C:\\Users\\adgat\\AppData\\Roaming\\nltk_data...\n",
      "[nltk_data]    |   Package averaged_perceptron_tagger_rus is already\n",
      "[nltk_data]    |       up-to-date!\n",
      "[nltk_data]    | Downloading package basque_grammars to\n",
      "[nltk_data]    |     C:\\Users\\adgat\\AppData\\Roaming\\nltk_data...\n",
      "[nltk_data]    |   Package basque_grammars is already up-to-date!\n",
      "[nltk_data]    | Downloading package bcp47 to\n",
      "[nltk_data]    |     C:\\Users\\adgat\\AppData\\Roaming\\nltk_data...\n",
      "[nltk_data]    |   Package bcp47 is already up-to-date!\n",
      "[nltk_data]    | Downloading package biocreative_ppi to\n",
      "[nltk_data]    |     C:\\Users\\adgat\\AppData\\Roaming\\nltk_data...\n",
      "[nltk_data]    |   Package biocreative_ppi is already up-to-date!\n",
      "[nltk_data]    | Downloading package bllip_wsj_no_aux to\n",
      "[nltk_data]    |     C:\\Users\\adgat\\AppData\\Roaming\\nltk_data...\n",
      "[nltk_data]    |   Package bllip_wsj_no_aux is already up-to-date!\n",
      "[nltk_data]    | Downloading package book_grammars to\n",
      "[nltk_data]    |     C:\\Users\\adgat\\AppData\\Roaming\\nltk_data...\n",
      "[nltk_data]    |   Package book_grammars is already up-to-date!\n",
      "[nltk_data]    | Downloading package brown to\n",
      "[nltk_data]    |     C:\\Users\\adgat\\AppData\\Roaming\\nltk_data...\n",
      "[nltk_data]    |   Package brown is already up-to-date!\n",
      "[nltk_data]    | Downloading package brown_tei to\n",
      "[nltk_data]    |     C:\\Users\\adgat\\AppData\\Roaming\\nltk_data...\n",
      "[nltk_data]    |   Package brown_tei is already up-to-date!\n",
      "[nltk_data]    | Downloading package cess_cat to\n",
      "[nltk_data]    |     C:\\Users\\adgat\\AppData\\Roaming\\nltk_data...\n",
      "[nltk_data]    |   Package cess_cat is already up-to-date!\n",
      "[nltk_data]    | Downloading package cess_esp to\n",
      "[nltk_data]    |     C:\\Users\\adgat\\AppData\\Roaming\\nltk_data...\n",
      "[nltk_data]    |   Package cess_esp is already up-to-date!\n",
      "[nltk_data]    | Downloading package chat80 to\n",
      "[nltk_data]    |     C:\\Users\\adgat\\AppData\\Roaming\\nltk_data...\n",
      "[nltk_data]    |   Package chat80 is already up-to-date!\n",
      "[nltk_data]    | Downloading package city_database to\n",
      "[nltk_data]    |     C:\\Users\\adgat\\AppData\\Roaming\\nltk_data...\n",
      "[nltk_data]    |   Package city_database is already up-to-date!\n",
      "[nltk_data]    | Downloading package cmudict to\n",
      "[nltk_data]    |     C:\\Users\\adgat\\AppData\\Roaming\\nltk_data...\n",
      "[nltk_data]    |   Package cmudict is already up-to-date!\n",
      "[nltk_data]    | Downloading package comparative_sentences to\n",
      "[nltk_data]    |     C:\\Users\\adgat\\AppData\\Roaming\\nltk_data...\n",
      "[nltk_data]    |   Package comparative_sentences is already up-to-\n",
      "[nltk_data]    |       date!\n",
      "[nltk_data]    | Downloading package comtrans to\n",
      "[nltk_data]    |     C:\\Users\\adgat\\AppData\\Roaming\\nltk_data...\n",
      "[nltk_data]    |   Package comtrans is already up-to-date!\n",
      "[nltk_data]    | Downloading package conll2000 to\n",
      "[nltk_data]    |     C:\\Users\\adgat\\AppData\\Roaming\\nltk_data...\n",
      "[nltk_data]    |   Package conll2000 is already up-to-date!\n",
      "[nltk_data]    | Downloading package conll2002 to\n",
      "[nltk_data]    |     C:\\Users\\adgat\\AppData\\Roaming\\nltk_data...\n",
      "[nltk_data]    |   Package conll2002 is already up-to-date!\n",
      "[nltk_data]    | Downloading package conll2007 to\n",
      "[nltk_data]    |     C:\\Users\\adgat\\AppData\\Roaming\\nltk_data...\n",
      "[nltk_data]    |   Package conll2007 is already up-to-date!\n",
      "[nltk_data]    | Downloading package crubadan to\n",
      "[nltk_data]    |     C:\\Users\\adgat\\AppData\\Roaming\\nltk_data...\n",
      "[nltk_data]    |   Package crubadan is already up-to-date!\n",
      "[nltk_data]    | Downloading package dependency_treebank to\n",
      "[nltk_data]    |     C:\\Users\\adgat\\AppData\\Roaming\\nltk_data...\n",
      "[nltk_data]    |   Package dependency_treebank is already up-to-date!\n",
      "[nltk_data]    | Downloading package dolch to\n",
      "[nltk_data]    |     C:\\Users\\adgat\\AppData\\Roaming\\nltk_data...\n",
      "[nltk_data]    |   Package dolch is already up-to-date!\n",
      "[nltk_data]    | Downloading package english_wordnet to\n",
      "[nltk_data]    |     C:\\Users\\adgat\\AppData\\Roaming\\nltk_data...\n",
      "[nltk_data]    |   Package english_wordnet is already up-to-date!\n",
      "[nltk_data]    | Downloading package europarl_raw to\n",
      "[nltk_data]    |     C:\\Users\\adgat\\AppData\\Roaming\\nltk_data...\n",
      "[nltk_data]    |   Package europarl_raw is already up-to-date!\n",
      "[nltk_data]    | Downloading package extended_omw to\n",
      "[nltk_data]    |     C:\\Users\\adgat\\AppData\\Roaming\\nltk_data...\n",
      "[nltk_data]    |   Package extended_omw is already up-to-date!\n",
      "[nltk_data]    | Downloading package floresta to\n",
      "[nltk_data]    |     C:\\Users\\adgat\\AppData\\Roaming\\nltk_data...\n",
      "[nltk_data]    |   Package floresta is already up-to-date!\n",
      "[nltk_data]    | Downloading package framenet_v15 to\n",
      "[nltk_data]    |     C:\\Users\\adgat\\AppData\\Roaming\\nltk_data...\n",
      "[nltk_data]    |   Package framenet_v15 is already up-to-date!\n",
      "[nltk_data]    | Downloading package framenet_v17 to\n",
      "[nltk_data]    |     C:\\Users\\adgat\\AppData\\Roaming\\nltk_data...\n",
      "[nltk_data]    |   Package framenet_v17 is already up-to-date!\n",
      "[nltk_data]    | Downloading package gazetteers to\n",
      "[nltk_data]    |     C:\\Users\\adgat\\AppData\\Roaming\\nltk_data...\n",
      "[nltk_data]    |   Package gazetteers is already up-to-date!\n",
      "[nltk_data]    | Downloading package genesis to\n",
      "[nltk_data]    |     C:\\Users\\adgat\\AppData\\Roaming\\nltk_data...\n",
      "[nltk_data]    |   Package genesis is already up-to-date!\n",
      "[nltk_data]    | Downloading package gutenberg to\n",
      "[nltk_data]    |     C:\\Users\\adgat\\AppData\\Roaming\\nltk_data...\n",
      "[nltk_data]    |   Package gutenberg is already up-to-date!\n",
      "[nltk_data]    | Downloading package ieer to\n",
      "[nltk_data]    |     C:\\Users\\adgat\\AppData\\Roaming\\nltk_data...\n",
      "[nltk_data]    |   Package ieer is already up-to-date!\n",
      "[nltk_data]    | Downloading package inaugural to\n",
      "[nltk_data]    |     C:\\Users\\adgat\\AppData\\Roaming\\nltk_data...\n",
      "[nltk_data]    |   Package inaugural is already up-to-date!\n",
      "[nltk_data]    | Downloading package indian to\n",
      "[nltk_data]    |     C:\\Users\\adgat\\AppData\\Roaming\\nltk_data...\n",
      "[nltk_data]    |   Package indian is already up-to-date!\n",
      "[nltk_data]    | Downloading package jeita to\n",
      "[nltk_data]    |     C:\\Users\\adgat\\AppData\\Roaming\\nltk_data...\n",
      "[nltk_data]    |   Package jeita is already up-to-date!\n",
      "[nltk_data]    | Downloading package kimmo to\n",
      "[nltk_data]    |     C:\\Users\\adgat\\AppData\\Roaming\\nltk_data...\n",
      "[nltk_data]    |   Package kimmo is already up-to-date!\n",
      "[nltk_data]    | Downloading package knbc to\n",
      "[nltk_data]    |     C:\\Users\\adgat\\AppData\\Roaming\\nltk_data...\n",
      "[nltk_data]    |   Package knbc is already up-to-date!\n",
      "[nltk_data]    | Downloading package large_grammars to\n",
      "[nltk_data]    |     C:\\Users\\adgat\\AppData\\Roaming\\nltk_data...\n",
      "[nltk_data]    |   Package large_grammars is already up-to-date!\n",
      "[nltk_data]    | Downloading package lin_thesaurus to\n",
      "[nltk_data]    |     C:\\Users\\adgat\\AppData\\Roaming\\nltk_data...\n",
      "[nltk_data]    |   Package lin_thesaurus is already up-to-date!\n",
      "[nltk_data]    | Downloading package mac_morpho to\n",
      "[nltk_data]    |     C:\\Users\\adgat\\AppData\\Roaming\\nltk_data...\n",
      "[nltk_data]    |   Package mac_morpho is already up-to-date!\n",
      "[nltk_data]    | Downloading package machado to\n",
      "[nltk_data]    |     C:\\Users\\adgat\\AppData\\Roaming\\nltk_data...\n",
      "[nltk_data]    |   Package machado is already up-to-date!\n",
      "[nltk_data]    | Downloading package masc_tagged to\n",
      "[nltk_data]    |     C:\\Users\\adgat\\AppData\\Roaming\\nltk_data...\n",
      "[nltk_data]    |   Package masc_tagged is already up-to-date!\n",
      "[nltk_data]    | Downloading package maxent_ne_chunker to\n",
      "[nltk_data]    |     C:\\Users\\adgat\\AppData\\Roaming\\nltk_data...\n",
      "[nltk_data]    |   Package maxent_ne_chunker is already up-to-date!\n",
      "[nltk_data]    | Downloading package maxent_ne_chunker_tab to\n",
      "[nltk_data]    |     C:\\Users\\adgat\\AppData\\Roaming\\nltk_data...\n",
      "[nltk_data]    |   Package maxent_ne_chunker_tab is already up-to-\n",
      "[nltk_data]    |       date!\n",
      "[nltk_data]    | Downloading package maxent_treebank_pos_tagger to\n",
      "[nltk_data]    |     C:\\Users\\adgat\\AppData\\Roaming\\nltk_data...\n",
      "[nltk_data]    |   Package maxent_treebank_pos_tagger is already up-\n",
      "[nltk_data]    |       to-date!\n",
      "[nltk_data]    | Downloading package maxent_treebank_pos_tagger_tab to\n",
      "[nltk_data]    |     C:\\Users\\adgat\\AppData\\Roaming\\nltk_data...\n",
      "[nltk_data]    |   Package maxent_treebank_pos_tagger_tab is already\n",
      "[nltk_data]    |       up-to-date!\n",
      "[nltk_data]    | Downloading package moses_sample to\n",
      "[nltk_data]    |     C:\\Users\\adgat\\AppData\\Roaming\\nltk_data...\n",
      "[nltk_data]    |   Package moses_sample is already up-to-date!\n",
      "[nltk_data]    | Downloading package movie_reviews to\n",
      "[nltk_data]    |     C:\\Users\\adgat\\AppData\\Roaming\\nltk_data...\n",
      "[nltk_data]    |   Package movie_reviews is already up-to-date!\n",
      "[nltk_data]    | Downloading package mte_teip5 to\n",
      "[nltk_data]    |     C:\\Users\\adgat\\AppData\\Roaming\\nltk_data...\n",
      "[nltk_data]    |   Package mte_teip5 is already up-to-date!\n",
      "[nltk_data]    | Downloading package mwa_ppdb to\n",
      "[nltk_data]    |     C:\\Users\\adgat\\AppData\\Roaming\\nltk_data...\n",
      "[nltk_data]    |   Package mwa_ppdb is already up-to-date!\n",
      "[nltk_data]    | Downloading package names to\n",
      "[nltk_data]    |     C:\\Users\\adgat\\AppData\\Roaming\\nltk_data...\n",
      "[nltk_data]    |   Package names is already up-to-date!\n",
      "[nltk_data]    | Downloading package nombank.1.0 to\n",
      "[nltk_data]    |     C:\\Users\\adgat\\AppData\\Roaming\\nltk_data...\n",
      "[nltk_data]    |   Package nombank.1.0 is already up-to-date!\n",
      "[nltk_data]    | Downloading package nonbreaking_prefixes to\n",
      "[nltk_data]    |     C:\\Users\\adgat\\AppData\\Roaming\\nltk_data...\n",
      "[nltk_data]    |   Package nonbreaking_prefixes is already up-to-date!\n",
      "[nltk_data]    | Downloading package nps_chat to\n",
      "[nltk_data]    |     C:\\Users\\adgat\\AppData\\Roaming\\nltk_data...\n",
      "[nltk_data]    |   Package nps_chat is already up-to-date!\n",
      "[nltk_data]    | Downloading package omw to\n",
      "[nltk_data]    |     C:\\Users\\adgat\\AppData\\Roaming\\nltk_data...\n",
      "[nltk_data]    |   Package omw is already up-to-date!\n",
      "[nltk_data]    | Downloading package omw-1.4 to\n",
      "[nltk_data]    |     C:\\Users\\adgat\\AppData\\Roaming\\nltk_data...\n",
      "[nltk_data]    |   Package omw-1.4 is already up-to-date!\n",
      "[nltk_data]    | Downloading package opinion_lexicon to\n",
      "[nltk_data]    |     C:\\Users\\adgat\\AppData\\Roaming\\nltk_data...\n",
      "[nltk_data]    |   Package opinion_lexicon is already up-to-date!\n",
      "[nltk_data]    | Downloading package panlex_swadesh to\n",
      "[nltk_data]    |     C:\\Users\\adgat\\AppData\\Roaming\\nltk_data...\n",
      "[nltk_data]    |   Package panlex_swadesh is already up-to-date!\n",
      "[nltk_data]    | Downloading package paradigms to\n",
      "[nltk_data]    |     C:\\Users\\adgat\\AppData\\Roaming\\nltk_data...\n",
      "[nltk_data]    |   Package paradigms is already up-to-date!\n",
      "[nltk_data]    | Downloading package pe08 to\n",
      "[nltk_data]    |     C:\\Users\\adgat\\AppData\\Roaming\\nltk_data...\n",
      "[nltk_data]    |   Package pe08 is already up-to-date!\n",
      "[nltk_data]    | Downloading package perluniprops to\n",
      "[nltk_data]    |     C:\\Users\\adgat\\AppData\\Roaming\\nltk_data...\n",
      "[nltk_data]    |   Package perluniprops is already up-to-date!\n",
      "[nltk_data]    | Downloading package pil to\n",
      "[nltk_data]    |     C:\\Users\\adgat\\AppData\\Roaming\\nltk_data...\n",
      "[nltk_data]    |   Package pil is already up-to-date!\n",
      "[nltk_data]    | Downloading package pl196x to\n",
      "[nltk_data]    |     C:\\Users\\adgat\\AppData\\Roaming\\nltk_data...\n",
      "[nltk_data]    |   Package pl196x is already up-to-date!\n",
      "[nltk_data]    | Downloading package porter_test to\n",
      "[nltk_data]    |     C:\\Users\\adgat\\AppData\\Roaming\\nltk_data...\n",
      "[nltk_data]    |   Package porter_test is already up-to-date!\n",
      "[nltk_data]    | Downloading package ppattach to\n",
      "[nltk_data]    |     C:\\Users\\adgat\\AppData\\Roaming\\nltk_data...\n",
      "[nltk_data]    |   Package ppattach is already up-to-date!\n",
      "[nltk_data]    | Downloading package problem_reports to\n",
      "[nltk_data]    |     C:\\Users\\adgat\\AppData\\Roaming\\nltk_data...\n",
      "[nltk_data]    |   Package problem_reports is already up-to-date!\n",
      "[nltk_data]    | Downloading package product_reviews_1 to\n",
      "[nltk_data]    |     C:\\Users\\adgat\\AppData\\Roaming\\nltk_data...\n",
      "[nltk_data]    |   Package product_reviews_1 is already up-to-date!\n",
      "[nltk_data]    | Downloading package product_reviews_2 to\n",
      "[nltk_data]    |     C:\\Users\\adgat\\AppData\\Roaming\\nltk_data...\n",
      "[nltk_data]    |   Package product_reviews_2 is already up-to-date!\n",
      "[nltk_data]    | Downloading package propbank to\n",
      "[nltk_data]    |     C:\\Users\\adgat\\AppData\\Roaming\\nltk_data...\n",
      "[nltk_data]    |   Package propbank is already up-to-date!\n",
      "[nltk_data]    | Downloading package pros_cons to\n",
      "[nltk_data]    |     C:\\Users\\adgat\\AppData\\Roaming\\nltk_data...\n",
      "[nltk_data]    |   Package pros_cons is already up-to-date!\n",
      "[nltk_data]    | Downloading package ptb to\n",
      "[nltk_data]    |     C:\\Users\\adgat\\AppData\\Roaming\\nltk_data...\n",
      "[nltk_data]    |   Package ptb is already up-to-date!\n",
      "[nltk_data]    | Downloading package punkt to\n",
      "[nltk_data]    |     C:\\Users\\adgat\\AppData\\Roaming\\nltk_data...\n",
      "[nltk_data]    |   Package punkt is already up-to-date!\n",
      "[nltk_data]    | Downloading package punkt_tab to\n",
      "[nltk_data]    |     C:\\Users\\adgat\\AppData\\Roaming\\nltk_data...\n",
      "[nltk_data]    |   Package punkt_tab is already up-to-date!\n",
      "[nltk_data]    | Downloading package qc to\n",
      "[nltk_data]    |     C:\\Users\\adgat\\AppData\\Roaming\\nltk_data...\n",
      "[nltk_data]    |   Package qc is already up-to-date!\n",
      "[nltk_data]    | Downloading package reuters to\n",
      "[nltk_data]    |     C:\\Users\\adgat\\AppData\\Roaming\\nltk_data...\n",
      "[nltk_data]    |   Package reuters is already up-to-date!\n",
      "[nltk_data]    | Downloading package rslp to\n",
      "[nltk_data]    |     C:\\Users\\adgat\\AppData\\Roaming\\nltk_data...\n",
      "[nltk_data]    |   Package rslp is already up-to-date!\n",
      "[nltk_data]    | Downloading package rte to\n",
      "[nltk_data]    |     C:\\Users\\adgat\\AppData\\Roaming\\nltk_data...\n",
      "[nltk_data]    |   Package rte is already up-to-date!\n",
      "[nltk_data]    | Downloading package sample_grammars to\n",
      "[nltk_data]    |     C:\\Users\\adgat\\AppData\\Roaming\\nltk_data...\n",
      "[nltk_data]    |   Package sample_grammars is already up-to-date!\n",
      "[nltk_data]    | Downloading package semcor to\n",
      "[nltk_data]    |     C:\\Users\\adgat\\AppData\\Roaming\\nltk_data...\n",
      "[nltk_data]    |   Package semcor is already up-to-date!\n",
      "[nltk_data]    | Downloading package senseval to\n",
      "[nltk_data]    |     C:\\Users\\adgat\\AppData\\Roaming\\nltk_data...\n",
      "[nltk_data]    |   Package senseval is already up-to-date!\n",
      "[nltk_data]    | Downloading package sentence_polarity to\n",
      "[nltk_data]    |     C:\\Users\\adgat\\AppData\\Roaming\\nltk_data...\n",
      "[nltk_data]    |   Package sentence_polarity is already up-to-date!\n",
      "[nltk_data]    | Downloading package sentiwordnet to\n",
      "[nltk_data]    |     C:\\Users\\adgat\\AppData\\Roaming\\nltk_data...\n",
      "[nltk_data]    |   Package sentiwordnet is already up-to-date!\n",
      "[nltk_data]    | Downloading package shakespeare to\n",
      "[nltk_data]    |     C:\\Users\\adgat\\AppData\\Roaming\\nltk_data...\n",
      "[nltk_data]    |   Package shakespeare is already up-to-date!\n",
      "[nltk_data]    | Downloading package sinica_treebank to\n",
      "[nltk_data]    |     C:\\Users\\adgat\\AppData\\Roaming\\nltk_data...\n",
      "[nltk_data]    |   Package sinica_treebank is already up-to-date!\n",
      "[nltk_data]    | Downloading package smultron to\n",
      "[nltk_data]    |     C:\\Users\\adgat\\AppData\\Roaming\\nltk_data...\n",
      "[nltk_data]    |   Package smultron is already up-to-date!\n",
      "[nltk_data]    | Downloading package snowball_data to\n",
      "[nltk_data]    |     C:\\Users\\adgat\\AppData\\Roaming\\nltk_data...\n",
      "[nltk_data]    |   Package snowball_data is already up-to-date!\n",
      "[nltk_data]    | Downloading package spanish_grammars to\n",
      "[nltk_data]    |     C:\\Users\\adgat\\AppData\\Roaming\\nltk_data...\n",
      "[nltk_data]    |   Package spanish_grammars is already up-to-date!\n",
      "[nltk_data]    | Downloading package state_union to\n",
      "[nltk_data]    |     C:\\Users\\adgat\\AppData\\Roaming\\nltk_data...\n",
      "[nltk_data]    |   Package state_union is already up-to-date!\n",
      "[nltk_data]    | Downloading package stopwords to\n",
      "[nltk_data]    |     C:\\Users\\adgat\\AppData\\Roaming\\nltk_data...\n",
      "[nltk_data]    |   Package stopwords is already up-to-date!\n",
      "[nltk_data]    | Downloading package subjectivity to\n",
      "[nltk_data]    |     C:\\Users\\adgat\\AppData\\Roaming\\nltk_data...\n",
      "[nltk_data]    |   Package subjectivity is already up-to-date!\n",
      "[nltk_data]    | Downloading package swadesh to\n",
      "[nltk_data]    |     C:\\Users\\adgat\\AppData\\Roaming\\nltk_data...\n",
      "[nltk_data]    |   Package swadesh is already up-to-date!\n",
      "[nltk_data]    | Downloading package switchboard to\n",
      "[nltk_data]    |     C:\\Users\\adgat\\AppData\\Roaming\\nltk_data...\n",
      "[nltk_data]    |   Package switchboard is already up-to-date!\n",
      "[nltk_data]    | Downloading package tagsets to\n",
      "[nltk_data]    |     C:\\Users\\adgat\\AppData\\Roaming\\nltk_data...\n",
      "[nltk_data]    |   Package tagsets is already up-to-date!\n",
      "[nltk_data]    | Downloading package tagsets_json to\n",
      "[nltk_data]    |     C:\\Users\\adgat\\AppData\\Roaming\\nltk_data...\n",
      "[nltk_data]    |   Package tagsets_json is already up-to-date!\n",
      "[nltk_data]    | Downloading package timit to\n",
      "[nltk_data]    |     C:\\Users\\adgat\\AppData\\Roaming\\nltk_data...\n",
      "[nltk_data]    |   Package timit is already up-to-date!\n",
      "[nltk_data]    | Downloading package toolbox to\n",
      "[nltk_data]    |     C:\\Users\\adgat\\AppData\\Roaming\\nltk_data...\n",
      "[nltk_data]    |   Package toolbox is already up-to-date!\n",
      "[nltk_data]    | Downloading package treebank to\n",
      "[nltk_data]    |     C:\\Users\\adgat\\AppData\\Roaming\\nltk_data...\n",
      "[nltk_data]    |   Package treebank is already up-to-date!\n",
      "[nltk_data]    | Downloading package twitter_samples to\n",
      "[nltk_data]    |     C:\\Users\\adgat\\AppData\\Roaming\\nltk_data...\n",
      "[nltk_data]    |   Package twitter_samples is already up-to-date!\n",
      "[nltk_data]    | Downloading package udhr to\n",
      "[nltk_data]    |     C:\\Users\\adgat\\AppData\\Roaming\\nltk_data...\n",
      "[nltk_data]    |   Package udhr is already up-to-date!\n",
      "[nltk_data]    | Downloading package udhr2 to\n",
      "[nltk_data]    |     C:\\Users\\adgat\\AppData\\Roaming\\nltk_data...\n",
      "[nltk_data]    |   Package udhr2 is already up-to-date!\n",
      "[nltk_data]    | Downloading package unicode_samples to\n",
      "[nltk_data]    |     C:\\Users\\adgat\\AppData\\Roaming\\nltk_data...\n",
      "[nltk_data]    |   Package unicode_samples is already up-to-date!\n",
      "[nltk_data]    | Downloading package universal_tagset to\n",
      "[nltk_data]    |     C:\\Users\\adgat\\AppData\\Roaming\\nltk_data...\n",
      "[nltk_data]    |   Package universal_tagset is already up-to-date!\n",
      "[nltk_data]    | Downloading package universal_treebanks_v20 to\n",
      "[nltk_data]    |     C:\\Users\\adgat\\AppData\\Roaming\\nltk_data...\n",
      "[nltk_data]    |   Package universal_treebanks_v20 is already up-to-\n",
      "[nltk_data]    |       date!\n",
      "[nltk_data]    | Downloading package vader_lexicon to\n",
      "[nltk_data]    |     C:\\Users\\adgat\\AppData\\Roaming\\nltk_data...\n",
      "[nltk_data]    |   Package vader_lexicon is already up-to-date!\n",
      "[nltk_data]    | Downloading package verbnet to\n",
      "[nltk_data]    |     C:\\Users\\adgat\\AppData\\Roaming\\nltk_data...\n",
      "[nltk_data]    |   Package verbnet is already up-to-date!\n",
      "[nltk_data]    | Downloading package verbnet3 to\n",
      "[nltk_data]    |     C:\\Users\\adgat\\AppData\\Roaming\\nltk_data...\n",
      "[nltk_data]    |   Package verbnet3 is already up-to-date!\n",
      "[nltk_data]    | Downloading package webtext to\n",
      "[nltk_data]    |     C:\\Users\\adgat\\AppData\\Roaming\\nltk_data...\n",
      "[nltk_data]    |   Package webtext is already up-to-date!\n",
      "[nltk_data]    | Downloading package wmt15_eval to\n",
      "[nltk_data]    |     C:\\Users\\adgat\\AppData\\Roaming\\nltk_data...\n",
      "[nltk_data]    |   Package wmt15_eval is already up-to-date!\n",
      "[nltk_data]    | Downloading package word2vec_sample to\n",
      "[nltk_data]    |     C:\\Users\\adgat\\AppData\\Roaming\\nltk_data...\n",
      "[nltk_data]    |   Package word2vec_sample is already up-to-date!\n",
      "[nltk_data]    | Downloading package wordnet to\n",
      "[nltk_data]    |     C:\\Users\\adgat\\AppData\\Roaming\\nltk_data...\n",
      "[nltk_data]    |   Package wordnet is already up-to-date!\n",
      "[nltk_data]    | Downloading package wordnet2021 to\n",
      "[nltk_data]    |     C:\\Users\\adgat\\AppData\\Roaming\\nltk_data...\n",
      "[nltk_data]    |   Package wordnet2021 is already up-to-date!\n",
      "[nltk_data]    | Downloading package wordnet2022 to\n",
      "[nltk_data]    |     C:\\Users\\adgat\\AppData\\Roaming\\nltk_data...\n",
      "[nltk_data]    |   Package wordnet2022 is already up-to-date!\n",
      "[nltk_data]    | Downloading package wordnet31 to\n",
      "[nltk_data]    |     C:\\Users\\adgat\\AppData\\Roaming\\nltk_data...\n",
      "[nltk_data]    |   Package wordnet31 is already up-to-date!\n",
      "[nltk_data]    | Downloading package wordnet_ic to\n",
      "[nltk_data]    |     C:\\Users\\adgat\\AppData\\Roaming\\nltk_data...\n",
      "[nltk_data]    |   Package wordnet_ic is already up-to-date!\n",
      "[nltk_data]    | Downloading package words to\n",
      "[nltk_data]    |     C:\\Users\\adgat\\AppData\\Roaming\\nltk_data...\n",
      "[nltk_data]    |   Package words is already up-to-date!\n",
      "[nltk_data]    | Downloading package ycoe to\n",
      "[nltk_data]    |     C:\\Users\\adgat\\AppData\\Roaming\\nltk_data...\n",
      "[nltk_data]    |   Package ycoe is already up-to-date!\n",
      "[nltk_data]    | \n",
      "[nltk_data]  Done downloading collection all\n"
     ]
    },
    {
     "data": {
      "text/plain": [
       "True"
      ]
     },
     "execution_count": 74,
     "metadata": {},
     "output_type": "execute_result"
    }
   ],
   "source": [
    "# nltk.download(\"punkt\")\n",
    "# nltk.download(\"stopwords\")\n",
    "# nltk.download(\"averaged_perceptron_tagger\")\n",
    "# nltk.download(\"wordnet\")\n",
    "# nltk.download('punkt_tab')\n",
    "# nltk.download('averaged_perceptron_tagger_eng')\n",
    "nltk.download(\"all\")"
   ]
  },
  {
   "cell_type": "code",
   "execution_count": 75,
   "metadata": {
    "id": "nhvt89YumzhU"
   },
   "outputs": [],
   "source": [
    "from sklearn.feature_extraction.text import TfidfVectorizer"
   ]
  },
  {
   "cell_type": "code",
   "execution_count": 76,
   "metadata": {},
   "outputs": [],
   "source": [
    "with open(\"doc_1.txt\",\"r\") as file:\n",
    "    doc_1 = file.read()\n",
    "\n",
    "with open(\"doc_2.txt\",\"r\") as file:\n",
    "    doc_2 = file.read()"
   ]
  },
  {
   "cell_type": "markdown",
   "metadata": {
    "id": "3Ma14Ic3md7h"
   },
   "source": [
    "**1. Extract and clean the document**\n"
   ]
  },
  {
   "cell_type": "code",
   "execution_count": 77,
   "metadata": {},
   "outputs": [],
   "source": [
    "alphabet = string.printable\n",
    "\n",
    "def clean_doc(doc:string):\n",
    "    return ''.join([c for c in doc.lower() if c in alphabet])\n",
    "\n",
    "doc_1 = clean_doc(doc_1)\n",
    "doc_2 = clean_doc(doc_2)\n"
   ]
  },
  {
   "cell_type": "code",
   "execution_count": 78,
   "metadata": {
    "colab": {
     "base_uri": "https://localhost:8080/",
     "height": 125
    },
    "id": "0eXZvmvUkVpZ",
    "outputId": "3f436cd1-07f1-4a1a-f4c2-161daa09f3cf"
   },
   "outputs": [
    {
     "data": {
      "text/plain": [
       "\"python is a high-level, interpreted programming language created by guido van rossum and first released in 1991. it is designed with an emphasis on code readability, and its syntax allows programmers to express concepts in fewer lines of code than would be possible in languages such as c++ or java.\\n\\npython supports multiple programming paradigms, including procedural, object-oriented, and functional programming. in simpler terms, this means its flexible and allows you to write code in different ways, whether that's like giving the computer a to-do list (procedural), creating digital models of things or concepts (object-oriented), or treating your code like a math problem (functional).\""
      ]
     },
     "execution_count": 78,
     "metadata": {},
     "output_type": "execute_result"
    }
   ],
   "source": [
    "with open(\"data.txt\",\"r\") as file:\n",
    "  text = file.read()\n",
    "    \n",
    "alphabet = string.printable\n",
    "\n",
    "def clean_data(text):\n",
    "  return''.join([word for word in text.lower() if word in alphabet])\n",
    "\n",
    "clean_data(text)\n"
   ]
  },
  {
   "cell_type": "markdown",
   "metadata": {
    "id": "an8hpMNblvf5"
   },
   "source": [
    "**2. Tokenization**: <br/>\n",
    "Breaking a text into smaller units, typically words or phrases, to facilitate further analysis."
   ]
  },
  {
   "cell_type": "code",
   "execution_count": 79,
   "metadata": {
    "colab": {
     "base_uri": "https://localhost:8080/"
    },
    "id": "CkfyRzgfluyb",
    "outputId": "ddfbdcea-40a5-44cd-fd76-92e9b82cb5c1"
   },
   "outputs": [
    {
     "name": "stdout",
     "output_type": "stream",
     "text": [
      "['Python', 'is', 'a', 'high-level', ',', 'interpreted', 'programming', 'language', 'created', 'by', 'Guido', 'van', 'Rossum', 'and', 'first', 'released', 'in', '1991', '.', 'It', 'is', 'designed', 'with', 'an', 'emphasis', 'on', 'code', 'readability', ',', 'and', 'its', 'syntax', 'allows', 'programmers', 'to', 'express', 'concepts', 'in', 'fewer', 'lines', 'of', 'code', 'than', 'would', 'be', 'possible', 'in', 'languages', 'such', 'as', 'C++', 'or', 'Java', '.', 'Python', 'supports', 'multiple', 'programming', 'paradigms', ',', 'including', 'procedural', ',', 'object-oriented', ',', 'and', 'functional', 'programming', '.', 'In', 'simpler', 'terms', ',', 'this', 'means', 'itâ€™s', 'flexible', 'and', 'allows', 'you', 'to', 'write', 'code', 'in', 'different', 'ways', ',', 'whether', 'that', \"'s\", 'like', 'giving', 'the', 'computer', 'a', 'to-do', 'list', '(', 'procedural', ')', ',', 'creating', 'digital', 'models', 'of', 'things', 'or', 'concepts', '(', 'object-oriented', ')', ',', 'or', 'treating', 'your', 'code', 'like', 'a', 'math', 'problem', '(', 'functional', ')', '.']\n"
     ]
    }
   ],
   "source": [
    "# import nltk\n",
    "# from nltk.tokenize import word_tokenize\n",
    "# nltk.download('punkt')\n",
    "\n",
    "tokens = word_tokenize(text)\n",
    "print(tokens)"
   ]
  },
  {
   "cell_type": "markdown",
   "metadata": {
    "id": "MHqaL0xgnkrQ"
   },
   "source": [
    "**3. POS Parts of Speech Tagging**:<br/> Assigning grammatical categories (like noun, verb, adjective) to each word in a text based on its context and meaning."
   ]
  },
  {
   "cell_type": "code",
   "execution_count": 80,
   "metadata": {
    "colab": {
     "base_uri": "https://localhost:8080/"
    },
    "id": "KnwDkwNZkqq8",
    "outputId": "55a106fe-8b3c-4bfc-ee9a-e478c5b0fa06"
   },
   "outputs": [
    {
     "name": "stdout",
     "output_type": "stream",
     "text": [
      "[('Python', 'NNP'), ('is', 'VBZ'), ('a', 'DT'), ('high-level', 'JJ'), (',', ','), ('interpreted', 'JJ'), ('programming', 'NN'), ('language', 'NN'), ('created', 'VBN'), ('by', 'IN'), ('Guido', 'NNP'), ('van', 'NN'), ('Rossum', 'NNP'), ('and', 'CC'), ('first', 'RB'), ('released', 'VBN'), ('in', 'IN'), ('1991', 'CD'), ('.', '.'), ('It', 'PRP'), ('is', 'VBZ'), ('designed', 'VBN'), ('with', 'IN'), ('an', 'DT'), ('emphasis', 'NN'), ('on', 'IN'), ('code', 'NN'), ('readability', 'NN'), (',', ','), ('and', 'CC'), ('its', 'PRP$'), ('syntax', 'NN'), ('allows', 'VBZ'), ('programmers', 'NNS'), ('to', 'TO'), ('express', 'VB'), ('concepts', 'NNS'), ('in', 'IN'), ('fewer', 'JJR'), ('lines', 'NNS'), ('of', 'IN'), ('code', 'NN'), ('than', 'IN'), ('would', 'MD'), ('be', 'VB'), ('possible', 'JJ'), ('in', 'IN'), ('languages', 'NNS'), ('such', 'JJ'), ('as', 'IN'), ('C++', 'NNP'), ('or', 'CC'), ('Java', 'NNP'), ('.', '.'), ('Python', 'NNP'), ('supports', 'VBZ'), ('multiple', 'JJ'), ('programming', 'NN'), ('paradigms', 'NN'), (',', ','), ('including', 'VBG'), ('procedural', 'JJ'), (',', ','), ('object-oriented', 'JJ'), (',', ','), ('and', 'CC'), ('functional', 'JJ'), ('programming', 'NN'), ('.', '.'), ('In', 'IN'), ('simpler', 'NN'), ('terms', 'NNS'), (',', ','), ('this', 'DT'), ('means', 'VBZ'), ('itâ€™s', 'JJ'), ('flexible', 'JJ'), ('and', 'CC'), ('allows', 'VBZ'), ('you', 'PRP'), ('to', 'TO'), ('write', 'VB'), ('code', 'NN'), ('in', 'IN'), ('different', 'JJ'), ('ways', 'NNS'), (',', ','), ('whether', 'IN'), ('that', 'DT'), (\"'s\", 'VBZ'), ('like', 'IN'), ('giving', 'VBG'), ('the', 'DT'), ('computer', 'NN'), ('a', 'DT'), ('to-do', 'JJ'), ('list', 'NN'), ('(', '('), ('procedural', 'JJ'), (')', ')'), (',', ','), ('creating', 'VBG'), ('digital', 'JJ'), ('models', 'NNS'), ('of', 'IN'), ('things', 'NNS'), ('or', 'CC'), ('concepts', 'NNS'), ('(', '('), ('object-oriented', 'JJ'), (')', ')'), (',', ','), ('or', 'CC'), ('treating', 'VBG'), ('your', 'PRP$'), ('code', 'NN'), ('like', 'IN'), ('a', 'DT'), ('math', 'NN'), ('problem', 'NN'), ('(', '('), ('functional', 'JJ'), (')', ')'), ('.', '.')]\n"
     ]
    }
   ],
   "source": [
    "pos_tags=nltk.pos_tag(tokens)\n",
    "print(pos_tags)"
   ]
  },
  {
   "cell_type": "markdown",
   "metadata": {
    "id": "U-JYJT9jogcO"
   },
   "source": [
    "**4. Stop Words Removal**:<br/> Eliminating common words (like \"the\", \"is\", \"and\") from a text that may not carry significant meaning for analysis purposes."
   ]
  },
  {
   "cell_type": "code",
   "execution_count": 82,
   "metadata": {
    "colab": {
     "base_uri": "https://localhost:8080/"
    },
    "id": "8tXvZYN2n0VR",
    "outputId": "f195d600-9ad1-4cad-a428-53c9dab11e30"
   },
   "outputs": [
    {
     "name": "stdout",
     "output_type": "stream",
     "text": [
      "['Python', 'high-level', ',', 'interpreted', 'programming', 'language', 'created', 'Guido', 'van', 'Rossum', 'first', 'released', '1991', '.', 'designed', 'emphasis', 'code', 'readability', ',', 'syntax', 'allows', 'programmers', 'express', 'concepts', 'fewer', 'lines', 'code', 'would', 'possible', 'languages', 'C++', 'Java', '.', 'Python', 'supports', 'multiple', 'programming', 'paradigms', ',', 'including', 'procedural', ',', 'object-oriented', ',', 'functional', 'programming', '.', 'simpler', 'terms', ',', 'means', 'itâ€™s', 'flexible', 'allows', 'write', 'code', 'different', 'ways', ',', 'whether', \"'s\", 'like', 'giving', 'computer', 'to-do', 'list', '(', 'procedural', ')', ',', 'creating', 'digital', 'models', 'things', 'concepts', '(', 'object-oriented', ')', ',', 'treating', 'code', 'like', 'math', 'problem', '(', 'functional', ')', '.']\n",
      "['Python', 'is', 'a', 'high-level', 'interpreted', 'programming', 'language', 'created', 'by', 'Guido', 'van', 'Rossum', 'and', 'first', 'released', 'in', '1991', 'It', 'is', 'designed', 'with', 'an', 'emphasis', 'on', 'code', 'readability', 'and', 'its', 'syntax', 'allows', 'programmers', 'to', 'express', 'concepts', 'in', 'fewer', 'lines', 'of', 'code', 'than', 'would', 'be', 'possible', 'in', 'languages', 'such', 'as', 'C++', 'or', 'Java', 'Python', 'supports', 'multiple', 'programming', 'paradigms', 'including', 'procedural', 'object-oriented', 'and', 'functional', 'programming', 'In', 'simpler', 'terms', 'this', 'means', 'itâ€™s', 'flexible', 'and', 'allows', 'you', 'to', 'write', 'code', 'in', 'different', 'ways', 'whether', 'that', \"'s\", 'like', 'giving', 'the', 'computer', 'a', 'to-do', 'list', 'procedural', 'creating', 'digital', 'models', 'of', 'things', 'or', 'concepts', 'object-oriented', 'or', 'treating', 'your', 'code', 'like', 'a', 'math', 'problem', 'functional']\n"
     ]
    }
   ],
   "source": [
    "# from nltk.corpus import stopwords\n",
    "# import nltk\n",
    "# nltk.download('stopwords')\n",
    "\n",
    "stop_words = set(stopwords.words('english'))\n",
    "filtered_tokens = [word for word in tokens if word.lower() not in stop_words]\n",
    "print(filtered_tokens)\n",
    "\n",
    "# Puncuation Removal\n",
    "filtered_tokens = [word for word in tokens if word.lower() not in string.punctuation]\n",
    "print(filtered_tokens)"
   ]
  },
  {
   "cell_type": "markdown",
   "metadata": {
    "id": "ZGp1pLAqpCTj"
   },
   "source": [
    "**5. Stemming** <br/>\n",
    "Reducing words to their base or root form, typically by removing suffixes, to normalize variations of words."
   ]
  },
  {
   "cell_type": "code",
   "execution_count": 83,
   "metadata": {
    "colab": {
     "base_uri": "https://localhost:8080/"
    },
    "id": "SwWVKgpio5aJ",
    "outputId": "d34c0c1d-97ee-4837-d4fe-064f546aecd9"
   },
   "outputs": [
    {
     "ename": "NameError",
     "evalue": "name 'PorterStemmer' is not defined",
     "output_type": "error",
     "traceback": [
      "\u001b[31m---------------------------------------------------------------------------\u001b[39m",
      "\u001b[31mNameError\u001b[39m                                 Traceback (most recent call last)",
      "\u001b[36mCell\u001b[39m\u001b[36m \u001b[39m\u001b[32mIn[83]\u001b[39m\u001b[32m, line 1\u001b[39m\n\u001b[32m----> \u001b[39m\u001b[32m1\u001b[39m porter = \u001b[43mPorterStemmer\u001b[49m()\n\u001b[32m      3\u001b[39m stemmed_words = [porter.stem(word) \u001b[38;5;28;01mfor\u001b[39;00m word \u001b[38;5;129;01min\u001b[39;00m filtered_tokens]\n\u001b[32m      4\u001b[39m \u001b[38;5;28mprint\u001b[39m(stemmed_words)\n",
      "\u001b[31mNameError\u001b[39m: name 'PorterStemmer' is not defined"
     ]
    }
   ],
   "source": [
    "porter = PorterStemmer()\n",
    "\n",
    "stemmed_words = [porter.stem(word) for word in filtered_tokens]\n",
    "print(stemmed_words)"
   ]
  },
  {
   "cell_type": "markdown",
   "metadata": {
    "id": "PSl0-ZO2pzO7"
   },
   "source": [
    "**6. Lemmetization**<br/>\n",
    "Similar to stemming but aims to return the base or dictionary form of a word (lemma), considering its morphological variations."
   ]
  },
  {
   "cell_type": "code",
   "execution_count": 57,
   "metadata": {
    "colab": {
     "base_uri": "https://localhost:8080/"
    },
    "id": "Rxyimbeipynv",
    "outputId": "c34e0f1b-697c-41b5-b94f-cfd748be671b"
   },
   "outputs": [
    {
     "name": "stdout",
     "output_type": "stream",
     "text": [
      "['Python', 'is', 'a', 'high-level', 'interpreted', 'programming', 'language', 'created', 'by', 'Guido', 'van', 'Rossum', 'and', 'first', 'released', 'in', '1991', 'It', 'is', 'designed', 'with', 'an', 'emphasis', 'on', 'code', 'readability', 'and', 'it', 'syntax', 'allows', 'programmer', 'to', 'express', 'concept', 'in', 'fewer', 'line', 'of', 'code', 'than', 'would', 'be', 'possible', 'in', 'language', 'such', 'a', 'C++', 'or', 'Java', 'Python', 'support', 'multiple', 'programming', 'paradigm', 'including', 'procedural', 'object-oriented', 'and', 'functional', 'programming', 'In', 'simpler', 'term', 'this', 'mean', 'itâ€™s', 'flexible', 'and', 'allows', 'you', 'to', 'write', 'code', 'in', 'different', 'way', 'whether', 'that', \"'s\", 'like', 'giving', 'the', 'computer', 'a', 'to-do', 'list', 'procedural', 'creating', 'digital', 'model', 'of', 'thing', 'or', 'concept', 'object-oriented', 'or', 'treating', 'your', 'code', 'like', 'a', 'math', 'problem', 'functional']\n"
     ]
    }
   ],
   "source": [
    "lemmatizer = WordNetLemmatizer()\n",
    "\n",
    "lemmatized_words = [lemmatizer.lemmatize(word) for word in filtered_tokens]\n",
    "\n",
    "print(lemmatized_words)"
   ]
  },
  {
   "cell_type": "markdown",
   "metadata": {
    "id": "0_3Wcm62qbxL"
   },
   "source": [
    "**Part 2 : Representation of Document**\n",
    "\n",
    "**Term Frequency (TF):** Measuring how frequently a term occurs in a document relative to the total number of terms in that document.<br/>\n",
    "\n",
    "**Inverse Document Frequency (IDF):** Measuring the rarity or commonness of a term across all documents in a corpus.\n",
    "\n",
    "\n",
    "**TF-IDF (Term Frequency-Inverse Document Frequency)**: Combining TF and IDF to evaluate the importance of a term in a document relative to a corpus."
   ]
  },
  {
   "cell_type": "code",
   "execution_count": 67,
   "metadata": {
    "colab": {
     "base_uri": "https://localhost:8080/"
    },
    "id": "RvmYK9wqph0p",
    "outputId": "95d4d2b1-e7fa-497f-9b2b-01eb34877f63"
   },
   "outputs": [
    {
     "name": "stdout",
     "output_type": "stream",
     "text": [
      "Term Frequency: <FreqDist with 76 samples and 105 outcomes>\n",
      "\n",
      "\n",
      "TF-IDF: {'python': np.float64(2.0), 'is': np.float64(2.0), 'a': np.float64(3.0), 'high-level': np.float64(1.0), 'interpret': np.float64(1.0), 'program': np.float64(3.0), 'languag': np.float64(2.0), 'creat': np.float64(2.0), 'by': np.float64(1.0), 'guido': np.float64(1.0), 'van': np.float64(1.0), 'rossum': np.float64(1.0), 'and': np.float64(4.0), 'first': np.float64(1.0), 'releas': np.float64(1.0), 'in': np.float64(5.0), '1991': np.float64(1.0), 'it': np.float64(2.0), 'design': np.float64(1.0), 'with': np.float64(1.0), 'an': np.float64(1.0), 'emphasi': np.float64(1.0), 'on': np.float64(1.0), 'code': np.float64(4.0), 'readabl': np.float64(1.0), 'syntax': np.float64(1.0), 'allow': np.float64(2.0), 'programm': np.float64(1.0), 'to': np.float64(2.0), 'express': np.float64(1.0), 'concept': np.float64(2.0), 'fewer': np.float64(1.0), 'line': np.float64(1.0), 'of': np.float64(2.0), 'than': np.float64(1.0), 'would': np.float64(1.0), 'be': np.float64(1.0), 'possibl': np.float64(1.0), 'such': np.float64(1.0), 'as': np.float64(1.0), 'c++': np.float64(1.0), 'or': np.float64(3.0), 'java': np.float64(1.0), 'support': np.float64(1.0), 'multipl': np.float64(1.0), 'paradigm': np.float64(1.0), 'includ': np.float64(1.0), 'procedur': np.float64(2.0), 'object-ori': np.float64(2.0), 'function': np.float64(2.0), 'simpler': np.float64(1.0), 'term': np.float64(1.0), 'thi': np.float64(1.0), 'mean': np.float64(1.0), 'itâ€™': np.float64(1.0), 'flexibl': np.float64(1.0), 'you': np.float64(1.0), 'write': np.float64(1.0), 'differ': np.float64(1.0), 'way': np.float64(1.0), 'whether': np.float64(1.0), 'that': np.float64(1.0), \"'s\": np.float64(1.0), 'like': np.float64(2.0), 'give': np.float64(1.0), 'the': np.float64(1.0), 'comput': np.float64(1.0), 'to-do': np.float64(1.0), 'list': np.float64(1.0), 'digit': np.float64(1.0), 'model': np.float64(1.0), 'thing': np.float64(1.0), 'treat': np.float64(1.0), 'your': np.float64(1.0), 'math': np.float64(1.0), 'problem': np.float64(1.0)}\n"
     ]
    }
   ],
   "source": [
    "tf = FreqDist(stemmed_words)\n",
    "corpus = [text]\n",
    "tfidf_vectorizer = TfidfVectorizer()\n",
    "tfidf_vectorizer.fit(corpus)\n",
    "idf = tfidf_vectorizer.idf_\n",
    "\n",
    "\n",
    "tfidf = {word: tf[word] * idf[i] for i, word in enumerate(tf.keys())}\n",
    "print(\"Term Frequency:\", tf)\n",
    "print(\"\\n\\nTF-IDF:\", tfidf)"
   ]
  },
  {
   "cell_type": "code",
   "execution_count": 78,
   "metadata": {},
   "outputs": [
    {
     "name": "stdout",
     "output_type": "stream",
     "text": [
      "\n",
      "Document 1:\n",
      "TF: {'between': 0.001652892561983471, '2016': 0.0049586776859504135, 'and': 0.02975206611570248, '2019,': 0.003305785123966942, 'the': 0.07107438016528926, 'state': 0.0049586776859504135, 'forest': 0.01818181818181818, 'department': 0.009917355371900827, 'under': 0.0049586776859504135, 'theâ': 0.003305785123966942, 'bjpâ': 0.001652892561983471, 'government': 0.006611570247933884, 'had': 0.011570247933884297, 'launched': 0.001652892561983471, 'â€˜green': 0.003305785123966942, 'maharashtraâ€™': 0.001652892561983471, 'drive': 0.0049586776859504135, 'with': 0.011570247933884297, 'an': 0.003305785123966942, 'aim': 0.003305785123966942, 'to': 0.023140495867768594, 'plant': 0.0049586776859504135, '50': 0.0049586776859504135, 'crore': 0.01652892561983471, 'trees': 0.008264462809917356, 'across': 0.001652892561983471, 'in': 0.02809917355371901, 'four-year': 0.001652892561983471, 'period.': 0.001652892561983471, 'october': 0.001652892561983471, 'claimed': 0.003305785123966942, 'it': 0.0049586776859504135, 'surpassed': 0.001652892561983471, 'target': 0.0049586776859504135, 'by': 0.003305785123966942, 'planting': 0.003305785123966942, '33': 0.0049586776859504135, 'july-september': 0.001652892561983471, '2019.â': 0.001652892561983471, 'indian': 0.001652892561983471, 'expressâ': 0.001652892561983471, 'found': 0.001652892561983471, 'that': 0.001652892561983471, 'non-forest': 0.001652892561983471, 'agencies': 0.003305785123966942, 'â€”': 0.009917355371900827, 'such': 0.003305785123966942, 'as': 0.008264462809917356, 'gram': 0.003305785123966942, 'panchayats': 0.003305785123966942, 'which': 0.011570247933884297, 'were': 0.0049586776859504135, 'tasked': 0.001652892561983471, 'not': 0.0049586776859504135, 'uploaded': 0.003305785123966942, 'mandatory': 0.001652892561983471, 'audio-visual': 0.001652892561983471, 'proof': 0.001652892561983471, 'of': 0.03471074380165289, 'tree': 0.003305785123966942, 'plantation': 0.013223140495867768, 'drives': 0.001652892561983471, 'on': 0.011570247933884297, 'specially': 0.001652892561983471, 'created': 0.003305785123966942, 'portal.': 0.001652892561983471, 'pune': 0.008264462809917356, 'revenue': 0.001652892561983471, 'division,': 0.001652892561983471, 'was': 0.006611570247933884, 'planted': 0.0049586776859504135, '1.7': 0.001652892561983471, 'saplings;': 0.001652892561983471, 'however,': 0.003305785123966942, 'no': 0.001652892561983471, 'evidence': 0.001652892561983471, 'for': 0.008264462809917356, '87': 0.001652892561983471, 'per': 0.001652892561983471, 'cent': 0.001652892561983471, '(1.49': 0.001652892561983471, 'crore)': 0.001652892561983471, 'saplings.': 0.003305785123966942, 'also,': 0.001652892561983471, 'out': 0.001652892561983471, '59': 0.001652892561983471, 'involved': 0.001652892561983471, 'many': 0.001652892561983471, '38': 0.001652892561983471, 'submitted': 0.001652892561983471, 'survival': 0.001652892561983471, 'reports': 0.001652892561983471, 'about': 0.003305785123966942, 'this': 0.006611570247933884, 'year,': 0.001652892561983471, 'targets': 0.001652892561983471, 'set': 0.006611570247933884, 'comparatively': 0.001652892561983471, 'modest.': 0.001652892561983471, 'example,': 0.001652892561983471, 'circle': 0.003305785123966942, 'comprises': 0.003305785123966942, 'three': 0.003305785123966942, 'divisions': 0.001652892561983471, 'solapur': 0.001652892561983471, 'district': 0.001652892561983471, 'planned': 0.001652892561983471, '17': 0.001652892561983471, 'lakh': 0.0049586776859504135, 'saplings': 0.009917355371900827, 'land.': 0.003305785123966942, 'may': 0.001652892561983471, 'meet': 0.001652892561983471, 'due': 0.001652892561983471, 'unavailability': 0.001652892561983471, 'funds.': 0.001652892561983471, 'last': 0.001652892561983471, 'year': 0.003305785123966942, '70': 0.001652892561983471, 'division': 0.001652892561983471, 'six': 0.001652892561983471, 'talukas': 0.001652892561983471, 'namely': 0.001652892561983471, 'maval,': 0.001652892561983471, 'mulshi,': 0.001652892561983471, 'daund,': 0.001652892561983471, 'indapur,': 0.001652892561983471, 'baramati': 0.001652892561983471, 'havveli': 0.001652892561983471, 'preparations': 0.001652892561983471, 'done': 0.001652892561983471, '4': 0.006611570247933884, 'special': 0.001652892561983471, 'emphasis': 0.001652892561983471, 'teakwood.': 0.001652892561983471, 'national': 0.003305785123966942, 'policy': 0.001652892561983471, 'aims': 0.003305785123966942, 'emphasizes': 0.001652892561983471, 'at': 0.003305785123966942, 'maintaining': 0.001652892561983471, '33%': 0.001652892561983471, 'countryâ€™s': 0.001652892561983471, 'geographical': 0.001652892561983471, 'area': 0.001652892561983471, 'green': 0.003305785123966942, 'cover.': 0.001652892561983471, 'view': 0.001652892561983471, 'a': 0.009917355371900827, 'part': 0.001652892561983471, 'programme': 0.001652892561983471, 'within': 0.001652892561983471, 'maharashtra,': 0.001652892561983471, 'maharashtra': 0.003305785123966942, 'all': 0.0049586776859504135, 'over': 0.001652892561983471, 'betweenâ': 0.001652892561983471, '1st': 0.003305785123966942, 'july': 0.008264462809917356, '7th,': 0.001652892561983471, '2017â': 0.001652892561983471, 'celebrateâ': 0.001652892561983471, 'â€˜vanmohotsavâ€™.': 0.001652892561983471, 'â': 0.008264462809917356, 'programme,': 0.001652892561983471, 'announced': 0.001652892561983471, 'plantingâ': 0.001652892561983471, '2': 0.001652892561983471, '1stâ': 0.003305785123966942, 'resounding': 0.001652892561983471, 'success': 0.001652892561983471, 'final': 0.001652892561983471, 'total': 0.001652892561983471, 'reported': 0.001652892561983471, 'figure': 0.001652892561983471, 'ofâ': 0.001652892561983471, '2.82': 0.001652892561983471, 'plantedâ': 0.001652892561983471, 'single': 0.001652892561983471, 'day.': 0.001652892561983471, 'maintain': 0.001652892561983471, 'consistency': 0.001652892561983471, 'platform': 0.001652892561983471, 'without': 0.001652892561983471, 'affecting': 0.001652892561983471, 'its': 0.003305785123966942, 'momentum,': 0.001652892561983471, 'has': 0.008264462809917356, 'crore,': 0.001652892561983471, '13': 0.001652892561983471, 'mission': 0.001652892561983471, 'shall': 0.001652892561983471, 'be': 0.0049586776859504135, 'accomplished': 0.001652892561983471, 'consecutive': 0.001652892561983471, 'years': 0.001652892561983471, 'viz.': 0.001652892561983471, '2017,': 0.001652892561983471, '2018': 0.001652892561983471, '2019.': 0.001652892561983471, 'croreâ': 0.001652892561983471, '2017': 0.001652892561983471, 'will': 0.003305785123966942, 'during': 0.001652892561983471, 'vanmohotsav,â': 0.001652892561983471, '7thâ': 0.003305785123966942, 'state-wide': 0.001652892561983471, 'driveâ': 0.001652892561983471, 'involvement': 0.001652892561983471, 'departments': 0.001652892561983471, 'along': 0.001652892561983471, 'students': 0.001652892561983471, 'schools': 0.001652892561983471, 'colleges,': 0.001652892561983471, 'nss,': 0.001652892561983471, 'ncc,': 0.001652892561983471, 'csr,': 0.001652892561983471, 'ngos,': 0.001652892561983471, 'railways,': 0.001652892561983471, 'highways,': 0.001652892561983471, 'defence,': 0.001652892561983471, 'nabard': 0.001652892561983471, 'other': 0.001652892561983471, 'stakeholders': 0.003305785123966942, 'society.': 0.001652892561983471, 'first': 0.001652892561983471, 'kind,': 0.001652892561983471, 'aâ': 0.003305785123966942, '24-hourâ': 0.001652892561983471, 'toll': 0.001652892561983471, 'freeâ': 0.001652892561983471, 'helpline': 0.001652892561983471, 'number': 0.001652892561983471, '1926â': 0.001652892561983471, 'called': 0.003305785123966942, 'â€˜hello': 0.001652892561983471, 'forestâ€™': 0.001652892561983471, 'been': 0.003305785123966942, 'up': 0.001652892561983471, 'provide': 0.001652892561983471, 'information': 0.001652892561983471, 'regarding': 0.001652892561983471, 'plantation,': 0.003305785123966942, 'protection': 0.001652892561983471, 'mass': 0.001652892561983471, 'awareness.': 0.001652892561983471, 'mobile': 0.001652892561983471, 'application': 0.003305785123966942, 'â€˜my': 0.001652892561983471, 'plantsâ€™â': 0.001652892561983471, 'record': 0.003305785123966942, 'details': 0.001652892561983471, 'numbers,': 0.001652892561983471, 'species': 0.001652892561983471, 'location': 0.001652892561983471, 'into': 0.001652892561983471, 'computer': 0.001652892561983471, 'system': 0.001652892561983471, 'department.': 0.001652892561983471, 'volunteers': 0.003305785123966942, 'individual,': 0.001652892561983471, 'collective': 0.001652892561983471, 'organizational': 0.001652892561983471, 'level': 0.001652892561983471, 'should': 0.001652892561983471, 'download': 0.001652892561983471, 'use': 0.001652892561983471, 'their': 0.001652892561983471, 'work': 0.001652892561983471, 'through': 0.001652892561983471, 'application,': 0.001652892561983471, 'operational': 0.001652892561983471, 'from': 0.003305785123966942, 'july.â': 0.001652892561983471, 'consonance': 0.001652892561983471, 'public': 0.001652892561983471, 'participation,': 0.001652892561983471, 'initiated': 0.001652892561983471, 'â€˜maharashtra': 0.001652892561983471, 'harit': 0.001652892561983471, 'senaâ€™/': 0.001652892561983471, 'armyâ€™': 0.001652892561983471, 'is': 0.001652892561983471, 'body': 0.001652892561983471, 'dedicated': 0.001652892561983471, 'participate': 0.001652892561983471, 'protection,': 0.001652892561983471, 'activities': 0.001652892561983471, 'forest,': 0.001652892561983471, 'wildlife,': 0.001652892561983471, 'related': 0.001652892561983471, 'sectors': 0.001652892561983471, 'around': 0.001652892561983471, 'year.': 0.001652892561983471, 'individuals': 0.001652892561983471, 'organisations': 0.001652892561983471, 'interested': 0.001652892561983471, 'volunteering': 0.001652892561983471, 'can': 0.001652892561983471, 'register': 0.001652892561983471, 'army': 0.001652892561983471, 'websiteâ': 0.001652892561983471, 'www.greenarmy.mahaforest.gov.in': 0.001652892561983471, 'integrated': 0.001652892561983471, 'place': 0.001652892561983471, 'ensure': 0.001652892561983471, 'seamless': 0.001652892561983471, 'successful': 0.001652892561983471, 'participation': 0.001652892561983471, 'society,': 0.001652892561983471, 'especially': 0.001652892561983471, 'public.': 0.001652892561983471}\n",
      "TF-IDF: {'between': 0.001652892561983471, '2016': 0.0049586776859504135, 'and': 0.017688641411657918, '2019,': 0.003305785123966942, 'the': 0.04225619892784948, 'state': 0.0029481069019429867, 'forest': 0.010809725307124284, 'department': 0.009917355371900827, 'under': 0.0029481069019429867, 'theâ': 0.003305785123966942, 'bjpâ': 0.001652892561983471, 'government': 0.003930809202590649, 'had': 0.011570247933884297, 'launched': 0.001652892561983471, 'â€˜green': 0.003305785123966942, 'maharashtraâ€™': 0.001652892561983471, 'drive': 0.0029481069019429867, 'with': 0.011570247933884297, 'an': 0.0019654046012953243, 'aim': 0.003305785123966942, 'to': 0.01375783220906727, 'plant': 0.0049586776859504135, '50': 0.0049586776859504135, 'crore': 0.01652892561983471, 'trees': 0.004913511503238311, 'across': 0.0009827023006476622, 'in': 0.01670593911101026, 'four-year': 0.001652892561983471, 'period.': 0.001652892561983471, 'october': 0.001652892561983471, 'claimed': 0.003305785123966942, 'it': 0.0049586776859504135, 'surpassed': 0.001652892561983471, 'target': 0.0049586776859504135, 'by': 0.0019654046012953243, 'planting': 0.0019654046012953243, '33': 0.0049586776859504135, 'july-september': 0.001652892561983471, '2019.â': 0.001652892561983471, 'indian': 0.0009827023006476622, 'expressâ': 0.001652892561983471, 'found': 0.001652892561983471, 'that': 0.0009827023006476622, 'non-forest': 0.001652892561983471, 'agencies': 0.003305785123966942, 'â€”': 0.009917355371900827, 'such': 0.003305785123966942, 'as': 0.004913511503238311, 'gram': 0.003305785123966942, 'panchayats': 0.003305785123966942, 'which': 0.011570247933884297, 'were': 0.0029481069019429867, 'tasked': 0.001652892561983471, 'not': 0.0049586776859504135, 'uploaded': 0.003305785123966942, 'mandatory': 0.001652892561983471, 'audio-visual': 0.001652892561983471, 'proof': 0.001652892561983471, 'of': 0.020636748313600906, 'tree': 0.0019654046012953243, 'plantation': 0.007861618405181297, 'drives': 0.0009827023006476622, 'on': 0.006878916104533635, 'specially': 0.001652892561983471, 'created': 0.003305785123966942, 'portal.': 0.001652892561983471, 'pune': 0.008264462809917356, 'revenue': 0.001652892561983471, 'division,': 0.001652892561983471, 'was': 0.003930809202590649, 'planted': 0.0029481069019429867, '1.7': 0.001652892561983471, 'saplings;': 0.001652892561983471, 'however,': 0.0019654046012953243, 'no': 0.001652892561983471, 'evidence': 0.001652892561983471, 'for': 0.004913511503238311, '87': 0.001652892561983471, 'per': 0.001652892561983471, 'cent': 0.001652892561983471, '(1.49': 0.001652892561983471, 'crore)': 0.001652892561983471, 'saplings.': 0.003305785123966942, 'also,': 0.001652892561983471, 'out': 0.0009827023006476622, '59': 0.001652892561983471, 'involved': 0.001652892561983471, 'many': 0.0009827023006476622, '38': 0.001652892561983471, 'submitted': 0.001652892561983471, 'survival': 0.0009827023006476622, 'reports': 0.001652892561983471, 'about': 0.0019654046012953243, 'this': 0.006611570247933884, 'year,': 0.001652892561983471, 'targets': 0.001652892561983471, 'set': 0.006611570247933884, 'comparatively': 0.001652892561983471, 'modest.': 0.001652892561983471, 'example,': 0.001652892561983471, 'circle': 0.003305785123966942, 'comprises': 0.003305785123966942, 'three': 0.003305785123966942, 'divisions': 0.001652892561983471, 'solapur': 0.001652892561983471, 'district': 0.001652892561983471, 'planned': 0.001652892561983471, '17': 0.001652892561983471, 'lakh': 0.0049586776859504135, 'saplings': 0.005896213803885973, 'land.': 0.0019654046012953243, 'may': 0.001652892561983471, 'meet': 0.001652892561983471, 'due': 0.001652892561983471, 'unavailability': 0.001652892561983471, 'funds.': 0.001652892561983471, 'last': 0.0009827023006476622, 'year': 0.003305785123966942, '70': 0.001652892561983471, 'division': 0.001652892561983471, 'six': 0.001652892561983471, 'talukas': 0.001652892561983471, 'namely': 0.001652892561983471, 'maval,': 0.001652892561983471, 'mulshi,': 0.001652892561983471, 'daund,': 0.001652892561983471, 'indapur,': 0.001652892561983471, 'baramati': 0.001652892561983471, 'havveli': 0.001652892561983471, 'preparations': 0.001652892561983471, 'done': 0.001652892561983471, '4': 0.006611570247933884, 'special': 0.001652892561983471, 'emphasis': 0.001652892561983471, 'teakwood.': 0.001652892561983471, 'national': 0.0019654046012953243, 'policy': 0.001652892561983471, 'aims': 0.003305785123966942, 'emphasizes': 0.001652892561983471, 'at': 0.003305785123966942, 'maintaining': 0.001652892561983471, '33%': 0.001652892561983471, 'countryâ€™s': 0.001652892561983471, 'geographical': 0.001652892561983471, 'area': 0.0009827023006476622, 'green': 0.003305785123966942, 'cover.': 0.001652892561983471, 'view': 0.001652892561983471, 'a': 0.005896213803885973, 'part': 0.0009827023006476622, 'programme': 0.001652892561983471, 'within': 0.001652892561983471, 'maharashtra,': 0.001652892561983471, 'maharashtra': 0.003305785123966942, 'all': 0.0049586776859504135, 'over': 0.0009827023006476622, 'betweenâ': 0.001652892561983471, '1st': 0.003305785123966942, 'july': 0.008264462809917356, '7th,': 0.001652892561983471, '2017â': 0.001652892561983471, 'celebrateâ': 0.001652892561983471, 'â€˜vanmohotsavâ€™.': 0.001652892561983471, 'â': 0.008264462809917356, 'programme,': 0.001652892561983471, 'announced': 0.001652892561983471, 'plantingâ': 0.001652892561983471, '2': 0.001652892561983471, '1stâ': 0.003305785123966942, 'resounding': 0.001652892561983471, 'success': 0.001652892561983471, 'final': 0.001652892561983471, 'total': 0.0009827023006476622, 'reported': 0.001652892561983471, 'figure': 0.001652892561983471, 'ofâ': 0.001652892561983471, '2.82': 0.001652892561983471, 'plantedâ': 0.001652892561983471, 'single': 0.0009827023006476622, 'day.': 0.001652892561983471, 'maintain': 0.0009827023006476622, 'consistency': 0.001652892561983471, 'platform': 0.001652892561983471, 'without': 0.001652892561983471, 'affecting': 0.001652892561983471, 'its': 0.0019654046012953243, 'momentum,': 0.001652892561983471, 'has': 0.004913511503238311, 'crore,': 0.001652892561983471, '13': 0.001652892561983471, 'mission': 0.001652892561983471, 'shall': 0.001652892561983471, 'be': 0.0049586776859504135, 'accomplished': 0.001652892561983471, 'consecutive': 0.001652892561983471, 'years': 0.001652892561983471, 'viz.': 0.001652892561983471, '2017,': 0.001652892561983471, '2018': 0.001652892561983471, '2019.': 0.001652892561983471, 'croreâ': 0.001652892561983471, '2017': 0.001652892561983471, 'will': 0.003305785123966942, 'during': 0.001652892561983471, 'vanmohotsav,â': 0.001652892561983471, '7thâ': 0.003305785123966942, 'state-wide': 0.001652892561983471, 'driveâ': 0.001652892561983471, 'involvement': 0.001652892561983471, 'departments': 0.001652892561983471, 'along': 0.0009827023006476622, 'students': 0.001652892561983471, 'schools': 0.001652892561983471, 'colleges,': 0.001652892561983471, 'nss,': 0.001652892561983471, 'ncc,': 0.001652892561983471, 'csr,': 0.001652892561983471, 'ngos,': 0.001652892561983471, 'railways,': 0.001652892561983471, 'highways,': 0.001652892561983471, 'defence,': 0.001652892561983471, 'nabard': 0.001652892561983471, 'other': 0.001652892561983471, 'stakeholders': 0.003305785123966942, 'society.': 0.001652892561983471, 'first': 0.001652892561983471, 'kind,': 0.001652892561983471, 'aâ': 0.003305785123966942, '24-hourâ': 0.001652892561983471, 'toll': 0.001652892561983471, 'freeâ': 0.001652892561983471, 'helpline': 0.001652892561983471, 'number': 0.001652892561983471, '1926â': 0.001652892561983471, 'called': 0.003305785123966942, 'â€˜hello': 0.001652892561983471, 'forestâ€™': 0.001652892561983471, 'been': 0.0019654046012953243, 'up': 0.001652892561983471, 'provide': 0.001652892561983471, 'information': 0.001652892561983471, 'regarding': 0.001652892561983471, 'plantation,': 0.003305785123966942, 'protection': 0.001652892561983471, 'mass': 0.001652892561983471, 'awareness.': 0.001652892561983471, 'mobile': 0.001652892561983471, 'application': 0.003305785123966942, 'â€˜my': 0.001652892561983471, 'plantsâ€™â': 0.001652892561983471, 'record': 0.0019654046012953243, 'details': 0.001652892561983471, 'numbers,': 0.001652892561983471, 'species': 0.001652892561983471, 'location': 0.001652892561983471, 'into': 0.001652892561983471, 'computer': 0.001652892561983471, 'system': 0.001652892561983471, 'department.': 0.001652892561983471, 'volunteers': 0.0019654046012953243, 'individual,': 0.001652892561983471, 'collective': 0.001652892561983471, 'organizational': 0.001652892561983471, 'level': 0.001652892561983471, 'should': 0.001652892561983471, 'download': 0.001652892561983471, 'use': 0.001652892561983471, 'their': 0.001652892561983471, 'work': 0.001652892561983471, 'through': 0.001652892561983471, 'application,': 0.001652892561983471, 'operational': 0.001652892561983471, 'from': 0.003305785123966942, 'july.â': 0.001652892561983471, 'consonance': 0.001652892561983471, 'public': 0.001652892561983471, 'participation,': 0.001652892561983471, 'initiated': 0.001652892561983471, 'â€˜maharashtra': 0.001652892561983471, 'harit': 0.001652892561983471, 'senaâ€™/': 0.001652892561983471, 'armyâ€™': 0.001652892561983471, 'is': 0.0009827023006476622, 'body': 0.001652892561983471, 'dedicated': 0.001652892561983471, 'participate': 0.001652892561983471, 'protection,': 0.001652892561983471, 'activities': 0.001652892561983471, 'forest,': 0.001652892561983471, 'wildlife,': 0.001652892561983471, 'related': 0.001652892561983471, 'sectors': 0.001652892561983471, 'around': 0.001652892561983471, 'year.': 0.001652892561983471, 'individuals': 0.001652892561983471, 'organisations': 0.001652892561983471, 'interested': 0.001652892561983471, 'volunteering': 0.001652892561983471, 'can': 0.0009827023006476622, 'register': 0.001652892561983471, 'army': 0.001652892561983471, 'websiteâ': 0.001652892561983471, 'www.greenarmy.mahaforest.gov.in': 0.001652892561983471, 'integrated': 0.001652892561983471, 'place': 0.001652892561983471, 'ensure': 0.001652892561983471, 'seamless': 0.001652892561983471, 'successful': 0.001652892561983471, 'participation': 0.001652892561983471, 'society,': 0.001652892561983471, 'especially': 0.001652892561983471, 'public.': 0.001652892561983471}\n",
      "\n",
      "Document 2:\n",
      "TF: {'millions': 0.0026954177897574125, 'of': 0.03773584905660377, 'people': 0.0026954177897574125, 'in': 0.026954177897574125, 'india': 0.008086253369272238, 'took': 0.0026954177897574125, 'part': 0.0026954177897574125, 'an': 0.008086253369272238, 'annual': 0.005390835579514825, 'tree': 0.01078167115902965, 'planting': 0.005390835579514825, 'drive': 0.0026954177897574125, 'sunday.': 0.0026954177897574125, 'more': 0.0026954177897574125, 'than': 0.0026954177897574125, '250': 0.0026954177897574125, 'million': 0.005390835579514825, 'saplings': 0.0215633423180593, 'were': 0.008086253369272238, 'planted': 0.008086253369272238, 'a': 0.018867924528301886, 'single': 0.0026954177897574125, 'day': 0.0026954177897574125, 'across': 0.005390835579514825, 'the': 0.08355795148247978, \"country's\": 0.0026954177897574125, 'most-populous': 0.0026954177897574125, 'state.': 0.0026954177897574125, 'campaign': 0.0026954177897574125, 'was': 0.005390835579514825, 'led': 0.0026954177897574125, 'by': 0.008086253369272238, 'uttar': 0.01078167115902965, 'pradesh': 0.01078167115902965, 'state': 0.013477088948787063, 'government': 0.01078167115902965, 'officials,': 0.0026954177897574125, 'lawmakers,': 0.0026954177897574125, 'and': 0.0215633423180593, 'activists,': 0.0026954177897574125, 'bid': 0.0026954177897574125, 'to': 0.026954177897574125, 'reduce': 0.0026954177897574125, 'carbon': 0.0026954177897574125, 'emissions': 0.0026954177897574125, 'combat': 0.0026954177897574125, 'climate': 0.0026954177897574125, 'change.': 0.0026954177897574125, 'where': 0.005390835579514825, 'trees': 0.005390835579514825, 'planted?': 0.0026954177897574125, 'volunteers': 0.0026954177897574125, 'forests,': 0.0026954177897574125, 'farms,': 0.0026954177897574125, 'schools,': 0.0026954177897574125, 'along': 0.0026954177897574125, 'riverbanks': 0.0026954177897574125, 'highways.': 0.0026954177897574125, '\"we': 0.0026954177897574125, 'are': 0.0026954177897574125, 'committed': 0.0026954177897574125, 'increasing': 0.0026954177897574125, 'forest': 0.018867924528301886, 'cover': 0.013477088948787063, 'over': 0.005390835579514825, '15%': 0.0026954177897574125, 'total': 0.005390835579514825, 'land': 0.005390835579514825, 'area': 0.0026954177897574125, 'next': 0.0026954177897574125, 'five': 0.0026954177897574125, \"years,''\": 0.0026954177897574125, 'said': 0.008086253369272238, 'official': 0.005390835579514825, 'manoj': 0.0026954177897574125, 'singh.': 0.0026954177897574125, 'according': 0.0026954177897574125, 'another': 0.0026954177897574125, 'official,': 0.0026954177897574125, 'has': 0.018867924528301886, 'increased': 0.005390835579514825, 'last': 0.005390835579514825, 'few': 0.0026954177897574125, 'years.': 0.0026954177897574125, '\"there': 0.005390835579514825, 'been': 0.01078167115902965, 'increase': 0.005390835579514825, '127': 0.0026954177897574125, 'sqare': 0.005390835579514825, 'kilometers': 0.0026954177897574125, '[79': 0.0026954177897574125, 'miles]â': 0.0026954177897574125, 'as': 0.008086253369272238, 'compared': 0.005390835579514825, '2017,\"': 0.0026954177897574125, 'spokesperson': 0.0026954177897574125, 'quoted': 0.0026954177897574125, 'saying': 0.0026954177897574125, 'inâ': 0.0026954177897574125, 'indian': 0.0026954177897574125, 'express': 0.0026954177897574125, 'newspaper.': 0.005390835579514825, 'also': 0.0026954177897574125, 'plants.': 0.0026954177897574125, '3.05%,': 0.0026954177897574125, 'national': 0.0026954177897574125, 'average': 0.0026954177897574125, '2.89%,\"': 0.0026954177897574125, 'said,': 0.0026954177897574125, 'citing': 0.0026954177897574125, '2019': 0.0026954177897574125, 'survey': 0.0026954177897574125, 'report.': 0.0026954177897574125, 'how': 0.0026954177897574125, 'many': 0.0026954177897574125, 'survive?': 0.0026954177897574125, 'minister': 0.0026954177897574125, 'dara': 0.0026954177897574125, 'singh': 0.0026954177897574125, 'long-term': 0.0026954177897574125, 'survival': 0.0026954177897574125, 'remains': 0.0026954177897574125, 'concern,': 0.0026954177897574125, 'adding': 0.0026954177897574125, 'that': 0.008086253369272238, 'usually': 0.0026954177897574125, 'only': 0.0026954177897574125, '60%': 0.0026954177897574125, 'survive.': 0.0026954177897574125, 'rest': 0.0026954177897574125, 'succumb': 0.0026954177897574125, 'disease': 0.0026954177897574125, 'or': 0.008086253369272238, 'lack': 0.0026954177897574125, 'water.': 0.0026954177897574125, 'however,': 0.005390835579514825, 'he': 0.005390835579514825, 'thatâ': 0.0026954177897574125, 'about': 0.0026954177897574125, '80%': 0.0026954177897574125, 'four': 0.0026954177897574125, 'drives': 0.0026954177897574125, 'have': 0.01078167115902965, 'survived.': 0.0026954177897574125, '\"all': 0.0026954177897574125, 'regions': 0.0026954177897574125, 'plantation': 0.005390835579514825, 'is': 0.005390835579514825, 'being': 0.0026954177897574125, 'carried': 0.0026954177897574125, 'out': 0.0026954177897574125, 'geo-tagged': 0.0026954177897574125, 'so': 0.005390835579514825, 'we': 0.0026954177897574125, 'can': 0.005390835579514825, 'ascertain': 0.0026954177897574125, 'what': 0.005390835579514825, 'exactly': 0.0026954177897574125, 'happened,\"': 0.0026954177897574125, 'chauhan': 0.0026954177897574125, 'told': 0.0026954177897574125, 'pioneer': 0.0026954177897574125, '\"these': 0.0026954177897574125, 'carry': 0.0026954177897574125, 'qr': 0.0026954177897574125, 'codes': 0.0026954177897574125, 'officials': 0.0026954177897574125, 'maintain': 0.0026954177897574125, 'record': 0.0026954177897574125, 'verify': 0.0026954177897574125, 'whether': 0.0026954177897574125, 'survived': 0.0026954177897574125, 'not.': 0.0026954177897574125, 'besides,': 0.0026954177897574125, 'teams': 0.0026954177897574125, 'formed': 0.0026954177897574125, 'monitor': 0.0026954177897574125, 'progress': 0.0026954177897574125, 'drive,\"': 0.0026954177897574125, 'said.': 0.0026954177897574125, 'extent': 0.0026954177897574125, \"india's\": 0.0026954177897574125, 'project?': 0.0026954177897574125, 'vowed': 0.0026954177897574125, 'third': 0.0026954177897574125, 'its': 0.0026954177897574125, 'area,': 0.0026954177897574125, '95': 0.0026954177897574125, 'hectares,': 0.0026954177897574125, 'under': 0.0026954177897574125, '2030.': 0.0026954177897574125, 'allocated': 0.0026954177897574125, '$6.2': 0.0026954177897574125, 'billion': 0.0026954177897574125, '(â‚¬5.2': 0.0026954177897574125, 'billion)': 0.0026954177897574125, 'for': 0.0026954177897574125, 'tree-planting': 0.0026954177897574125, 'country.': 0.0026954177897574125, 'industrial': 0.0026954177897574125, 'development': 0.0026954177897574125, 'rapidly': 0.0026954177897574125, 'growing': 0.0026954177897574125, 'population': 0.0026954177897574125, 'put': 0.0026954177897574125, 'further': 0.0026954177897574125, 'stress': 0.0026954177897574125, 'on': 0.0026954177897574125, 'land.': 0.0026954177897574125}\n",
      "TF-IDF: {'millions': 0.0026954177897574125, 'of': 0.02243527893931455, 'people': 0.0026954177897574125, 'in': 0.016025199242367536, 'india': 0.008086253369272238, 'took': 0.0026954177897574125, 'part': 0.0016025199242367537, 'an': 0.0048075597727102615, 'annual': 0.005390835579514825, 'tree': 0.006410079696947015, 'planting': 0.0032050398484735074, 'drive': 0.0016025199242367537, 'sunday.': 0.0026954177897574125, 'more': 0.0026954177897574125, 'than': 0.0026954177897574125, '250': 0.0026954177897574125, 'million': 0.005390835579514825, 'saplings': 0.01282015939389403, 'were': 0.0048075597727102615, 'planted': 0.0048075597727102615, 'a': 0.011217639469657275, 'single': 0.0016025199242367537, 'day': 0.0026954177897574125, 'across': 0.0032050398484735074, 'the': 0.049678117651339365, \"country's\": 0.0026954177897574125, 'most-populous': 0.0026954177897574125, 'state.': 0.0026954177897574125, 'campaign': 0.0026954177897574125, 'was': 0.0032050398484735074, 'led': 0.0026954177897574125, 'by': 0.0048075597727102615, 'uttar': 0.01078167115902965, 'pradesh': 0.01078167115902965, 'state': 0.008012599621183768, 'government': 0.006410079696947015, 'officials,': 0.0026954177897574125, 'lawmakers,': 0.0026954177897574125, 'and': 0.01282015939389403, 'activists,': 0.0026954177897574125, 'bid': 0.0026954177897574125, 'to': 0.016025199242367536, 'reduce': 0.0026954177897574125, 'carbon': 0.0026954177897574125, 'emissions': 0.0026954177897574125, 'combat': 0.0026954177897574125, 'climate': 0.0026954177897574125, 'change.': 0.0026954177897574125, 'where': 0.005390835579514825, 'trees': 0.0032050398484735074, 'planted?': 0.0026954177897574125, 'volunteers': 0.0016025199242367537, 'forests,': 0.0026954177897574125, 'farms,': 0.0026954177897574125, 'schools,': 0.0026954177897574125, 'along': 0.0016025199242367537, 'riverbanks': 0.0026954177897574125, 'highways.': 0.0026954177897574125, '\"we': 0.0026954177897574125, 'are': 0.0026954177897574125, 'committed': 0.0026954177897574125, 'increasing': 0.0026954177897574125, 'forest': 0.011217639469657275, 'cover': 0.013477088948787063, 'over': 0.0032050398484735074, '15%': 0.0026954177897574125, 'total': 0.0032050398484735074, 'land': 0.005390835579514825, 'area': 0.0016025199242367537, 'next': 0.0026954177897574125, 'five': 0.0026954177897574125, \"years,''\": 0.0026954177897574125, 'said': 0.008086253369272238, 'official': 0.005390835579514825, 'manoj': 0.0026954177897574125, 'singh.': 0.0026954177897574125, 'according': 0.0026954177897574125, 'another': 0.0026954177897574125, 'official,': 0.0026954177897574125, 'has': 0.011217639469657275, 'increased': 0.005390835579514825, 'last': 0.0032050398484735074, 'few': 0.0026954177897574125, 'years.': 0.0026954177897574125, '\"there': 0.005390835579514825, 'been': 0.006410079696947015, 'increase': 0.005390835579514825, '127': 0.0026954177897574125, 'sqare': 0.005390835579514825, 'kilometers': 0.0026954177897574125, '[79': 0.0026954177897574125, 'miles]â': 0.0026954177897574125, 'as': 0.0048075597727102615, 'compared': 0.005390835579514825, '2017,\"': 0.0026954177897574125, 'spokesperson': 0.0026954177897574125, 'quoted': 0.0026954177897574125, 'saying': 0.0026954177897574125, 'inâ': 0.0026954177897574125, 'indian': 0.0016025199242367537, 'express': 0.0026954177897574125, 'newspaper.': 0.005390835579514825, 'also': 0.0026954177897574125, 'plants.': 0.0026954177897574125, '3.05%,': 0.0026954177897574125, 'national': 0.0016025199242367537, 'average': 0.0026954177897574125, '2.89%,\"': 0.0026954177897574125, 'said,': 0.0026954177897574125, 'citing': 0.0026954177897574125, '2019': 0.0026954177897574125, 'survey': 0.0026954177897574125, 'report.': 0.0026954177897574125, 'how': 0.0026954177897574125, 'many': 0.0016025199242367537, 'survive?': 0.0026954177897574125, 'minister': 0.0026954177897574125, 'dara': 0.0026954177897574125, 'singh': 0.0026954177897574125, 'long-term': 0.0026954177897574125, 'survival': 0.0016025199242367537, 'remains': 0.0026954177897574125, 'concern,': 0.0026954177897574125, 'adding': 0.0026954177897574125, 'that': 0.0048075597727102615, 'usually': 0.0026954177897574125, 'only': 0.0026954177897574125, '60%': 0.0026954177897574125, 'survive.': 0.0026954177897574125, 'rest': 0.0026954177897574125, 'succumb': 0.0026954177897574125, 'disease': 0.0026954177897574125, 'or': 0.008086253369272238, 'lack': 0.0026954177897574125, 'water.': 0.0026954177897574125, 'however,': 0.0032050398484735074, 'he': 0.005390835579514825, 'thatâ': 0.0026954177897574125, 'about': 0.0016025199242367537, '80%': 0.0026954177897574125, 'four': 0.0026954177897574125, 'drives': 0.0016025199242367537, 'have': 0.01078167115902965, 'survived.': 0.0026954177897574125, '\"all': 0.0026954177897574125, 'regions': 0.0026954177897574125, 'plantation': 0.0032050398484735074, 'is': 0.0032050398484735074, 'being': 0.0026954177897574125, 'carried': 0.0026954177897574125, 'out': 0.0016025199242367537, 'geo-tagged': 0.0026954177897574125, 'so': 0.005390835579514825, 'we': 0.0026954177897574125, 'can': 0.0032050398484735074, 'ascertain': 0.0026954177897574125, 'what': 0.005390835579514825, 'exactly': 0.0026954177897574125, 'happened,\"': 0.0026954177897574125, 'chauhan': 0.0026954177897574125, 'told': 0.0026954177897574125, 'pioneer': 0.0026954177897574125, '\"these': 0.0026954177897574125, 'carry': 0.0026954177897574125, 'qr': 0.0026954177897574125, 'codes': 0.0026954177897574125, 'officials': 0.0026954177897574125, 'maintain': 0.0016025199242367537, 'record': 0.0016025199242367537, 'verify': 0.0026954177897574125, 'whether': 0.0026954177897574125, 'survived': 0.0026954177897574125, 'not.': 0.0026954177897574125, 'besides,': 0.0026954177897574125, 'teams': 0.0026954177897574125, 'formed': 0.0026954177897574125, 'monitor': 0.0026954177897574125, 'progress': 0.0026954177897574125, 'drive,\"': 0.0026954177897574125, 'said.': 0.0026954177897574125, 'extent': 0.0026954177897574125, \"india's\": 0.0026954177897574125, 'project?': 0.0026954177897574125, 'vowed': 0.0026954177897574125, 'third': 0.0026954177897574125, 'its': 0.0016025199242367537, 'area,': 0.0026954177897574125, '95': 0.0026954177897574125, 'hectares,': 0.0026954177897574125, 'under': 0.0016025199242367537, '2030.': 0.0026954177897574125, 'allocated': 0.0026954177897574125, '$6.2': 0.0026954177897574125, 'billion': 0.0026954177897574125, '(â‚¬5.2': 0.0026954177897574125, 'billion)': 0.0026954177897574125, 'for': 0.0016025199242367537, 'tree-planting': 0.0026954177897574125, 'country.': 0.0026954177897574125, 'industrial': 0.0026954177897574125, 'development': 0.0026954177897574125, 'rapidly': 0.0026954177897574125, 'growing': 0.0026954177897574125, 'population': 0.0026954177897574125, 'put': 0.0026954177897574125, 'further': 0.0026954177897574125, 'stress': 0.0026954177897574125, 'on': 0.0016025199242367537, 'land.': 0.0016025199242367537}\n"
     ]
    }
   ],
   "source": [
    "from collections import Counter\n",
    "\n",
    "# Step 1: Read the two documents\n",
    "with open(\"doc_1.txt\", \"r\") as file:\n",
    "    doc1 = file.read().lower().split()\n",
    "\n",
    "with open(\"doc_2.txt\", \"r\") as file:\n",
    "    doc2 = file.read().lower().split()\n",
    "\n",
    "docs = [doc1, doc2]  # List of both documents\n",
    "\n",
    "# Step 2: Calculate IDF (importance of each word)\n",
    "total_docs = len(docs)\n",
    "all_words = set(word for doc in docs for word in doc)\n",
    "\n",
    "idf = {}\n",
    "for word in all_words:\n",
    "    count = sum(word in doc for doc in docs)  # In how many docs the word appears\n",
    "    idf[word] = math.log(total_docs / (1 + count)) + 1  # Smoothed IDF\n",
    "\n",
    "# Step 3: Calculate TF (frequency of words in each doc) and TF-IDF\n",
    "for i, doc in enumerate(docs):\n",
    "    tf = Counter(doc)\n",
    "    total_words = len(doc)\n",
    "    tf = {word: count / total_words for word, count in tf.items()}\n",
    "    tfidf = {word: tf[word] * idf[word] for word in tf}\n",
    "\n",
    "    print(f\"\\nDocument {i+1}:\")\n",
    "    print(\"TF:\", tf)\n",
    "    print(\"TF-IDF:\", tfidf)\n"
   ]
  },
  {
   "cell_type": "code",
   "execution_count": null,
   "metadata": {},
   "outputs": [],
   "source": []
  }
 ],
 "metadata": {
  "colab": {
   "provenance": []
  },
  "kernelspec": {
   "display_name": "Python 3 (ipykernel)",
   "language": "python",
   "name": "python3"
  },
  "language_info": {
   "codemirror_mode": {
    "name": "ipython",
    "version": 3
   },
   "file_extension": ".py",
   "mimetype": "text/x-python",
   "name": "python",
   "nbconvert_exporter": "python",
   "pygments_lexer": "ipython3",
   "version": "3.13.2"
  }
 },
 "nbformat": 4,
 "nbformat_minor": 4
}
